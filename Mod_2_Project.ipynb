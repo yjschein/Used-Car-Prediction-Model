{
 "cells": [
  {
   "cell_type": "code",
   "execution_count": 1,
   "metadata": {},
   "outputs": [],
   "source": [
    "import pandas as pd\n",
    "import matplotlib.pyplot as plt\n",
    "import numpy as np\n",
    "import sqlite3\n",
    "from pandasql import sqldf\n",
    "import matplotlib.pyplot as plt\n",
    "import seaborn as sns\n",
    "%matplotlib inline\n",
    "from sklearn.model_selection import train_test_split\n",
    "from sklearn import metrics\n",
    "from sklearn.linear_model import Lasso\n",
    "from sklearn.linear_model import LinearRegression\n",
    "import operator\n",
    "from sklearn.metrics import mean_squared_error, r2_score\n",
    "from sklearn.preprocessing import PolynomialFeatures\n",
    "from scipy import stats\n",
    "from sklearn import linear_model\n",
    "from statsmodels.formula.api import ols\n",
    "from sklearn.preprocessing import StandardScaler\n",
    "from sklearn.feature_selection import SelectKBest, f_regression,mutual_info_regression"
   ]
  },
  {
   "cell_type": "code",
   "execution_count": 2,
   "metadata": {},
   "outputs": [
    {
     "data": {
      "text/plain": [
       "(435849, 25)"
      ]
     },
     "execution_count": 2,
     "metadata": {},
     "output_type": "execute_result"
    }
   ],
   "source": [
    "df = pd.read_csv('62920_1254870_compressed_vehicles.csv.zip')\n",
    "df.shape"
   ]
  },
  {
   "cell_type": "code",
   "execution_count": 3,
   "metadata": {
    "scrolled": true
   },
   "outputs": [
    {
     "data": {
      "text/plain": [
       "Index(['id', 'url', 'region', 'region_url', 'price', 'year', 'manufacturer',\n",
       "       'model', 'condition', 'cylinders', 'fuel', 'odometer', 'title_status',\n",
       "       'transmission', 'vin', 'drive', 'size', 'type', 'paint_color',\n",
       "       'image_url', 'description', 'county', 'state', 'lat', 'long'],\n",
       "      dtype='object')"
      ]
     },
     "execution_count": 3,
     "metadata": {},
     "output_type": "execute_result"
    }
   ],
   "source": [
    "df.columns"
   ]
  },
  {
   "cell_type": "code",
   "execution_count": 4,
   "metadata": {
    "scrolled": true
   },
   "outputs": [
    {
     "name": "stdout",
     "output_type": "stream",
     "text": [
      "<class 'pandas.core.frame.DataFrame'>\n",
      "RangeIndex: 435849 entries, 0 to 435848\n",
      "Data columns (total 25 columns):\n",
      " #   Column        Non-Null Count   Dtype  \n",
      "---  ------        --------------   -----  \n",
      " 0   id            435849 non-null  int64  \n",
      " 1   url           435849 non-null  object \n",
      " 2   region        435849 non-null  object \n",
      " 3   region_url    435849 non-null  object \n",
      " 4   price         435849 non-null  int64  \n",
      " 5   year          434732 non-null  float64\n",
      " 6   manufacturer  415102 non-null  object \n",
      " 7   model         429650 non-null  object \n",
      " 8   condition     249043 non-null  object \n",
      " 9   cylinders     269465 non-null  object \n",
      " 10  fuel          432858 non-null  object \n",
      " 11  odometer      360701 non-null  float64\n",
      " 12  title_status  434043 non-null  object \n",
      " 13  transmission  433703 non-null  object \n",
      " 14  vin           239197 non-null  object \n",
      " 15  drive         313838 non-null  object \n",
      " 16  size          139888 non-null  object \n",
      " 17  type          318741 non-null  object \n",
      " 18  paint_color   300602 non-null  object \n",
      " 19  image_url     435825 non-null  object \n",
      " 20  description   435822 non-null  object \n",
      " 21  county        0 non-null       float64\n",
      " 22  state         435849 non-null  object \n",
      " 23  lat           427614 non-null  float64\n",
      " 24  long          427614 non-null  float64\n",
      "dtypes: float64(5), int64(2), object(18)\n",
      "memory usage: 83.1+ MB\n"
     ]
    }
   ],
   "source": [
    "df.info()"
   ]
  },
  {
   "cell_type": "code",
   "execution_count": 5,
   "metadata": {},
   "outputs": [
    {
     "data": {
      "text/plain": [
       "year              1117\n",
       "manufacturer     20747\n",
       "model             6199\n",
       "condition       186806\n",
       "cylinders       166384\n",
       "fuel              2991\n",
       "odometer         75148\n",
       "title_status      1806\n",
       "transmission      2146\n",
       "vin             196652\n",
       "drive           122011\n",
       "size            295961\n",
       "type            117108\n",
       "paint_color     135247\n",
       "image_url           24\n",
       "description         27\n",
       "county          435849\n",
       "lat               8235\n",
       "long              8235\n",
       "dtype: int64"
      ]
     },
     "execution_count": 5,
     "metadata": {},
     "output_type": "execute_result"
    }
   ],
   "source": [
    "# number of null values in each row\n",
    "null_columns=df.columns[df.isnull().any()]\n",
    "df[null_columns].isnull().sum()"
   ]
  },
  {
   "cell_type": "markdown",
   "metadata": {},
   "source": [
    "# EDA"
   ]
  },
  {
   "cell_type": "markdown",
   "metadata": {},
   "source": [
    "## How I plan to take care of values (including null)\n",
    "Drop these columns:\n",
    "- url = drop\n",
    "- region_url = drop\n",
    "- title_status = drop\n",
    "- vin = drop\n",
    "- size = drop = very similar to type but its missing more values and not as descriptive\n",
    "- paint_color = drop, too many Nan's\n",
    "- image_url = drop\n",
    "- description = drop\n",
    "- county = drop\n",
    "- lat = drop\n",
    "- long = drop\n",
    "\n",
    "Nan to unknown:\n",
    "- model = Nan to unknown\n",
    "- condition = Nan to unknown, also ranked condition 0-2\n",
    "- fuel = Nan to unknown\n",
    "- transmission = Nan to unknown\n",
    "- drive = Nan to unknown\n",
    "- type = Nan to unknown\n",
    "- cylinders Nan to unknown\n",
    "\n",
    "Deleting Rows (with Nan)\n",
    "- manufacturer = drop null rows\n",
    "- year = drop null rows\n",
    "- price = drop price = 0 and price > $300,000\n",
    "- odometer = drop > 300,000\n",
    "\n",
    "Keep how it is:\n",
    "- id = keep\n",
    "- region = keep\n",
    "- state = keep"
   ]
  },
  {
   "cell_type": "markdown",
   "metadata": {},
   "source": [
    "        After coming across this data set, I was wondering if it is possible to predict the price of a car that is being sold on craigslist. Additionally, as a seller of a car, I was wondering if it is possible to predict how much my car would be sold for if I put it on craigslist. This data set gave me the necessary columns to analyze this question and ultimately build a model with a low RMSE score. I cleaned up the data, deleted unnecessary rows, replaced some unknown variables with others that made sense and then began to answer some questions which stakeholders would find interesting. I plotted most of my graphs with price as the target variable, as that is the goal of this project. "
   ]
  },
  {
   "cell_type": "code",
   "execution_count": 6,
   "metadata": {},
   "outputs": [
    {
     "name": "stdout",
     "output_type": "stream",
     "text": [
      "original shape:  (435849, 25)\n",
      "new shape:  (435849, 14)\n"
     ]
    }
   ],
   "source": [
    "print('original shape: ', df.shape)\n",
    "\n",
    "df.drop('url', axis=1, inplace=True)\n",
    "df.drop('region_url', axis=1, inplace=True)\n",
    "df.drop('title_status', axis=1, inplace=True)\n",
    "# remove vin column because its missing a lot of values that hard to replace\n",
    "# vin is a code from 1-30 which represents the year, but there is already a year column\n",
    "df.drop('vin', axis=1, inplace=True)\n",
    "df.drop('size', axis=1, inplace=True)\n",
    "df.drop('paint_color', axis=1, inplace=True)\n",
    "df.drop('image_url', axis=1, inplace=True)\n",
    "df.drop('description', axis=1, inplace=True)\n",
    "# remove county column because its literally missing every value\n",
    "df.drop('county', axis=1, inplace=True)\n",
    "df.drop('lat', axis=1, inplace=True)\n",
    "df.drop('long', axis=1, inplace=True)\n",
    "\n",
    "print('new shape: ', df.shape)"
   ]
  },
  {
   "cell_type": "code",
   "execution_count": 7,
   "metadata": {},
   "outputs": [
    {
     "data": {
      "text/plain": [
       "year              1117\n",
       "manufacturer     20747\n",
       "model             6199\n",
       "condition       186806\n",
       "cylinders       166384\n",
       "fuel              2991\n",
       "odometer         75148\n",
       "transmission      2146\n",
       "drive           122011\n",
       "type            117108\n",
       "dtype: int64"
      ]
     },
     "execution_count": 7,
     "metadata": {},
     "output_type": "execute_result"
    }
   ],
   "source": [
    "# number of null values in each row\n",
    "null_columns=df.columns[df.isnull().any()]\n",
    "df[null_columns].isnull().sum()"
   ]
  },
  {
   "cell_type": "markdown",
   "metadata": {},
   "source": [
    "### Deleting Rows"
   ]
  },
  {
   "cell_type": "code",
   "execution_count": 8,
   "metadata": {},
   "outputs": [
    {
     "name": "stdout",
     "output_type": "stream",
     "text": [
      "original shape:  (435849, 14)\n"
     ]
    }
   ],
   "source": [
    "print('original shape: ', df.shape)"
   ]
  },
  {
   "cell_type": "markdown",
   "metadata": {},
   "source": [
    "Deleting Nan rows in manufacturer"
   ]
  },
  {
   "cell_type": "code",
   "execution_count": 9,
   "metadata": {},
   "outputs": [
    {
     "name": "stdout",
     "output_type": "stream",
     "text": [
      "old shape:  (435849, 14)\n",
      "new shape:  (415102, 14)\n"
     ]
    }
   ],
   "source": [
    "# Manufacturer \n",
    "# I found this row to be very important for my models, therefore, since only 20,000 entries had\n",
    "# Nans I decided to just delete those rows. These rows also had other missing values which by deleting them\n",
    "# helped with my data set. The best way to fill in these Nans would be to go through model by model which \n",
    "# would take too long\n",
    "\n",
    "print('old shape: ', df.shape)\n",
    "df = df.dropna(how='any', subset=['manufacturer'])\n",
    "print('new shape: ', df.shape)"
   ]
  },
  {
   "cell_type": "markdown",
   "metadata": {},
   "source": [
    "Deleting Nan rows in year"
   ]
  },
  {
   "cell_type": "code",
   "execution_count": 10,
   "metadata": {},
   "outputs": [
    {
     "name": "stdout",
     "output_type": "stream",
     "text": [
      "old shape:  (415102, 14)\n",
      "new shape:  (415094, 14)\n"
     ]
    }
   ],
   "source": [
    "# It is hard to know what the year is based on the odometer or other features,\n",
    "# but I am able to predict the odometer based on the year.\n",
    "# Therefore, I will eliminate the 8 null year rows and then impute \n",
    "# the empty odometer rows based on the year\n",
    "print('old shape: ', df.shape)\n",
    "df = df.dropna(how='any', subset=['year'])\n",
    "print('new shape: ', df.shape)"
   ]
  },
  {
   "cell_type": "markdown",
   "metadata": {},
   "source": [
    "Deleting rows in price"
   ]
  },
  {
   "cell_type": "code",
   "execution_count": 11,
   "metadata": {},
   "outputs": [],
   "source": [
    "# The price of the car caused a lot of issues. Some prices were extreme for cars that are \n",
    "# supposed to exponentially cheaper. For any car that the price was zero, I deleted the row.\n",
    "# It is very hard to fill in the price of a car without looking at the exact model due to some\n",
    "# cars being antique. Therefore, I deleted all cars that are over $500,000 that were made\n",
    "# after 1990 (this year was chosen after analyzing the data)"
   ]
  },
  {
   "cell_type": "code",
   "execution_count": 12,
   "metadata": {},
   "outputs": [
    {
     "name": "stdout",
     "output_type": "stream",
     "text": [
      "old shape:  (415094, 14)\n",
      "new shape:  (386156, 14)\n"
     ]
    }
   ],
   "source": [
    "print('old shape: ', df.shape)\n",
    "df.drop(df[(df['price'] == 0)].index, inplace=True)\n",
    "print('new shape: ', df.shape)"
   ]
  },
  {
   "cell_type": "code",
   "execution_count": 13,
   "metadata": {},
   "outputs": [
    {
     "name": "stdout",
     "output_type": "stream",
     "text": [
      "old shape:  (386156, 14)\n",
      "new shape:  (386087, 14)\n"
     ]
    }
   ],
   "source": [
    "print('old shape: ', df.shape)\n",
    "df.drop(df[(df['price'] >= 300000)].index, inplace=True)\n",
    "print('new shape: ', df.shape)"
   ]
  },
  {
   "cell_type": "markdown",
   "metadata": {},
   "source": [
    "Deleting rows in odometer"
   ]
  },
  {
   "cell_type": "code",
   "execution_count": 14,
   "metadata": {},
   "outputs": [
    {
     "name": "stdout",
     "output_type": "stream",
     "text": [
      "old shape:  (386087, 14)\n",
      "new shape:  (384445, 14)\n"
     ]
    }
   ],
   "source": [
    "print('old shape: ', df.shape)\n",
    "df.drop(df[(df['odometer'] >= 300000)].index, inplace=True)\n",
    "print('new shape: ', df.shape)"
   ]
  },
  {
   "cell_type": "code",
   "execution_count": 15,
   "metadata": {
    "scrolled": true
   },
   "outputs": [
    {
     "data": {
      "text/plain": [
       "model             5742\n",
       "condition       158151\n",
       "cylinders       143718\n",
       "fuel              2381\n",
       "odometer         61464\n",
       "transmission      1765\n",
       "drive           103692\n",
       "type            101875\n",
       "dtype: int64"
      ]
     },
     "execution_count": 15,
     "metadata": {},
     "output_type": "execute_result"
    }
   ],
   "source": [
    "# number of null values in each row\n",
    "null_columns=df.columns[df.isnull().any()]\n",
    "df[null_columns].isnull().sum()"
   ]
  },
  {
   "cell_type": "markdown",
   "metadata": {},
   "source": [
    "### Changed Nans to Unknown "
   ]
  },
  {
   "cell_type": "code",
   "execution_count": 16,
   "metadata": {},
   "outputs": [],
   "source": [
    "# model\n",
    "df['model'].fillna('Unknown', inplace = True)\n",
    "# condition\n",
    "df['condition'].fillna('Unknown', inplace = True)\n",
    "# fuel\n",
    "df['fuel'].fillna('Unknown', inplace = True)\n",
    "# transmission\n",
    "df['transmission'].fillna('Unknown', inplace = True)\n",
    "# drive\n",
    "df['drive'].fillna('Unknown', inplace = True)\n",
    "# type\n",
    "df['type'].fillna('Unknown', inplace = True)\n",
    "# cylinders\n",
    "df['cylinders'].fillna('Unknown', inplace = True)"
   ]
  },
  {
   "cell_type": "markdown",
   "metadata": {},
   "source": [
    "conditon column: ranked condition of car from 0-2"
   ]
  },
  {
   "cell_type": "code",
   "execution_count": 17,
   "metadata": {},
   "outputs": [],
   "source": [
    "df.condition = df.condition.replace({'new':2, 'like new':2, 'excellent':2,\n",
    "                                     'good':1,'fair':1,\n",
    "                                     'salvage':0})"
   ]
  },
  {
   "cell_type": "markdown",
   "metadata": {},
   "source": [
    "add an age column "
   ]
  },
  {
   "cell_type": "code",
   "execution_count": 18,
   "metadata": {},
   "outputs": [],
   "source": [
    "df['age'] = 2021 - df['year']"
   ]
  },
  {
   "cell_type": "code",
   "execution_count": 19,
   "metadata": {},
   "outputs": [],
   "source": [
    "\n",
    "df['year'].values[df['year'] <= 1950] = 1950\n",
    "df['year'] = np.where((df['year'] <= 1960) & (df['year'] > 1950), 1960, df['year'])\n",
    "df['year'] = np.where((df['year'] <= 1970) & (df['year'] > 1960), 1970, df['year']) \n",
    "df['year'] = np.where((df['year'] <= 1980) & (df['year'] > 1970), 1980, df['year'])\n",
    "df['year'] = np.where((df['year'] <= 1990) & (df['year'] > 1980), 1990, df['year'])\n",
    "df['year'] = np.where((df['year'] <= 2000) & (df['year'] > 1990), 2000, df['year'])\n",
    "df['year'] = np.where((df['year'] <= 2005) & (df['year'] > 2000), 2005, df['year'])\n",
    "df['year'] = np.where((df['year'] <= 2010) & (df['year'] > 2005), 2010, df['year'])\n",
    "df['year'] = np.where((df['year'] <= 2015) & (df['year'] > 2010), 2015, df['year'])"
   ]
  },
  {
   "cell_type": "code",
   "execution_count": 20,
   "metadata": {},
   "outputs": [
    {
     "data": {
      "text/html": [
       "<div>\n",
       "<style scoped>\n",
       "    .dataframe tbody tr th:only-of-type {\n",
       "        vertical-align: middle;\n",
       "    }\n",
       "\n",
       "    .dataframe tbody tr th {\n",
       "        vertical-align: top;\n",
       "    }\n",
       "\n",
       "    .dataframe thead th {\n",
       "        text-align: right;\n",
       "    }\n",
       "</style>\n",
       "<table border=\"1\" class=\"dataframe\">\n",
       "  <thead>\n",
       "    <tr style=\"text-align: right;\">\n",
       "      <th></th>\n",
       "      <th>odometer</th>\n",
       "    </tr>\n",
       "    <tr>\n",
       "      <th>year</th>\n",
       "      <th></th>\n",
       "    </tr>\n",
       "  </thead>\n",
       "  <tbody>\n",
       "    <tr>\n",
       "      <th>1950.0</th>\n",
       "      <td>8000.0</td>\n",
       "    </tr>\n",
       "    <tr>\n",
       "      <th>1960.0</th>\n",
       "      <td>34170.0</td>\n",
       "    </tr>\n",
       "    <tr>\n",
       "      <th>1970.0</th>\n",
       "      <td>54891.0</td>\n",
       "    </tr>\n",
       "    <tr>\n",
       "      <th>1980.0</th>\n",
       "      <td>68154.0</td>\n",
       "    </tr>\n",
       "    <tr>\n",
       "      <th>1990.0</th>\n",
       "      <td>96406.5</td>\n",
       "    </tr>\n",
       "    <tr>\n",
       "      <th>2000.0</th>\n",
       "      <td>147516.0</td>\n",
       "    </tr>\n",
       "    <tr>\n",
       "      <th>2005.0</th>\n",
       "      <td>150000.0</td>\n",
       "    </tr>\n",
       "    <tr>\n",
       "      <th>2010.0</th>\n",
       "      <td>131687.0</td>\n",
       "    </tr>\n",
       "    <tr>\n",
       "      <th>2015.0</th>\n",
       "      <td>92982.0</td>\n",
       "    </tr>\n",
       "    <tr>\n",
       "      <th>2016.0</th>\n",
       "      <td>52683.0</td>\n",
       "    </tr>\n",
       "    <tr>\n",
       "      <th>2017.0</th>\n",
       "      <td>37806.0</td>\n",
       "    </tr>\n",
       "    <tr>\n",
       "      <th>2018.0</th>\n",
       "      <td>29525.0</td>\n",
       "    </tr>\n",
       "    <tr>\n",
       "      <th>2019.0</th>\n",
       "      <td>16000.0</td>\n",
       "    </tr>\n",
       "    <tr>\n",
       "      <th>2020.0</th>\n",
       "      <td>1500.0</td>\n",
       "    </tr>\n",
       "    <tr>\n",
       "      <th>2021.0</th>\n",
       "      <td>66500.0</td>\n",
       "    </tr>\n",
       "  </tbody>\n",
       "</table>\n",
       "</div>"
      ],
      "text/plain": [
       "        odometer\n",
       "year            \n",
       "1950.0    8000.0\n",
       "1960.0   34170.0\n",
       "1970.0   54891.0\n",
       "1980.0   68154.0\n",
       "1990.0   96406.5\n",
       "2000.0  147516.0\n",
       "2005.0  150000.0\n",
       "2010.0  131687.0\n",
       "2015.0   92982.0\n",
       "2016.0   52683.0\n",
       "2017.0   37806.0\n",
       "2018.0   29525.0\n",
       "2019.0   16000.0\n",
       "2020.0    1500.0\n",
       "2021.0   66500.0"
      ]
     },
     "execution_count": 20,
     "metadata": {},
     "output_type": "execute_result"
    }
   ],
   "source": [
    "odom_year = sqldf(\"\"\"select year, count(year), avg(odometer) as avg_od\n",
    "            from df\n",
    "            group by year\n",
    "            order by year DESC\n",
    "            limit 15\"\"\")\n",
    "df.groupby(['year'])[['odometer']].median()"
   ]
  },
  {
   "cell_type": "markdown",
   "metadata": {},
   "source": [
    "- How I handle the missing values in the odometer column"
   ]
  },
  {
   "cell_type": "code",
   "execution_count": 21,
   "metadata": {
    "scrolled": false
   },
   "outputs": [
    {
     "name": "stdout",
     "output_type": "stream",
     "text": [
      "old missing values:  odometer    61464\n",
      "dtype: int64\n",
      "new missing values:  Series([], dtype: float64)\n"
     ]
    }
   ],
   "source": [
    "# number of null values in each row\n",
    "null_columns=df.columns[df.isnull().any()]\n",
    "print('old missing values: ', df[null_columns].isnull().sum())\n",
    "\n",
    "#1950\n",
    "df['odometer'] = np.where((df['odometer'].isna()) & (df['year'] == 1950), 8000, df['odometer'])\n",
    "#1960\n",
    "df['odometer'] = np.where((df['odometer'].isna()) & (df['year'] == 1960), 34000, df['odometer'])\n",
    "#1970\n",
    "df['odometer'] = np.where((df['odometer'].isna()) & (df['year'] == 1970), 55000, df['odometer'])\n",
    "#1980\n",
    "df['odometer'] = np.where((df['odometer'].isna()) & (df['year'] == 1980), 68000, df['odometer'])\n",
    "#1990\n",
    "df['odometer'] = np.where((df['odometer'].isna()) & (df['year'] == 1990), 96000, df['odometer'])\n",
    "#2000\n",
    "df['odometer'] = np.where((df['odometer'].isna()) & (df['year'] == 2000), 147000, df['odometer'])\n",
    "#2005\n",
    "df['odometer'] = np.where((df['odometer'].isna()) & (df['year'] == 2005), 150000, df['odometer'])\n",
    "#2010\n",
    "df['odometer'] = np.where((df['odometer'].isna()) & (df['year'] == 2010), 130000, df['odometer']) \n",
    "#2015\n",
    "df['odometer'] = np.where((df['odometer'].isna()) & (df['year'] == 2015), 93000, df['odometer']) \n",
    "#2016\n",
    "df['odometer'] = np.where((df['odometer'].isna()) & (df['year'] == 2016), 53000, df['odometer']) \n",
    "#2017\n",
    "df['odometer'] = np.where((df['odometer'].isna()) & (df['year'] == 2017), 38000, df['odometer']) \n",
    "#2018\n",
    "df['odometer'] = np.where((df['odometer'].isna()) & (df['year'] == 2018), 30000, df['odometer']) \n",
    "#2019\n",
    "df['odometer'] = np.where((df['odometer'].isna()) & (df['year'] == 2019), 16000, df['odometer'])\n",
    "#2020\n",
    "df['odometer'] = np.where((df['odometer'].isna()) & (df['year'] == 2020), 1500, df['odometer']) \n",
    "#2021\n",
    "df['odometer'] = np.where((df['odometer'].isna()) & (df['year'] == 2021), 66500, df['odometer']) \n",
    "\n",
    "# number of null values in each row\n",
    "null_columns=df.columns[df.isnull().any()]\n",
    "print('new missing values: ', df[null_columns].isnull().sum())"
   ]
  },
  {
   "cell_type": "code",
   "execution_count": 22,
   "metadata": {},
   "outputs": [
    {
     "data": {
      "text/plain": [
       "(384445, 15)"
      ]
     },
     "execution_count": 22,
     "metadata": {},
     "output_type": "execute_result"
    }
   ],
   "source": [
    "df.shape"
   ]
  },
  {
   "cell_type": "markdown",
   "metadata": {},
   "source": [
    "# 3 questions with answers through EDA"
   ]
  },
  {
   "cell_type": "markdown",
   "metadata": {},
   "source": [
    "### 1. How does the mileage change over time?"
   ]
  },
  {
   "cell_type": "code",
   "execution_count": 23,
   "metadata": {},
   "outputs": [
    {
     "data": {
      "text/plain": [
       "[Text(0, 0, '1950.0'),\n",
       " Text(0, 0, '1960.0'),\n",
       " Text(0, 0, '1970.0'),\n",
       " Text(0, 0, '1980.0'),\n",
       " Text(0, 0, '1990.0'),\n",
       " Text(0, 0, '2000.0'),\n",
       " Text(0, 0, '2005.0'),\n",
       " Text(0, 0, '2010.0'),\n",
       " Text(0, 0, '2015.0'),\n",
       " Text(0, 0, '2016.0'),\n",
       " Text(0, 0, '2017.0'),\n",
       " Text(0, 0, '2018.0'),\n",
       " Text(0, 0, '2019.0'),\n",
       " Text(0, 0, '2020.0'),\n",
       " Text(0, 0, '2021.0')]"
      ]
     },
     "execution_count": 23,
     "metadata": {},
     "output_type": "execute_result"
    },
    {
     "data": {
      "image/png": "[encoded data removed]",
      "text/plain": [
       "<Figure size 1440x720 with 1 Axes>"
      ]
     },
     "metadata": {},
     "output_type": "display_data"
    }
   ],
   "source": [
    "sns.set(style=\"darkgrid\")\n",
    "plt.figure(figsize=(20,10))\n",
    "totalsChart = sns.barplot(data=odom_year, x='year',y='avg_od')\n",
    "totalsChart.set_xticklabels(totalsChart.get_xticklabels(), rotation=45, horizontalalignment='right')"
   ]
  },
  {
   "cell_type": "markdown",
   "metadata": {},
   "source": [
    "### 2. Which manufacturer has the most expensive cars?"
   ]
  },
  {
   "cell_type": "code",
   "execution_count": 24,
   "metadata": {},
   "outputs": [
    {
     "name": "stdout",
     "output_type": "stream",
     "text": [
      "    manufacturer  count(manufacturer)     avg(price)\n",
      "0        ferrari                   76  105890.421053\n",
      "1   aston-martin                   34   59657.470588\n",
      "2          tesla                  298   46941.362416\n",
      "3         morgan                    3   34166.666667\n",
      "4          rover                 1713   23536.918856\n",
      "5            ram                18356   21821.132927\n",
      "6            gmc                17279   18478.465131\n",
      "7     alfa-romeo                   60   18158.233333\n",
      "8         porche                   27   17490.444444\n",
      "9  mercedes-benz                 8972   16838.699398\n"
     ]
    },
    {
     "data": {
      "text/plain": [
       "[Text(0, 0, 'ferrari'),\n",
       " Text(0, 0, 'aston-martin'),\n",
       " Text(0, 0, 'tesla'),\n",
       " Text(0, 0, 'morgan'),\n",
       " Text(0, 0, 'rover'),\n",
       " Text(0, 0, 'ram'),\n",
       " Text(0, 0, 'gmc'),\n",
       " Text(0, 0, 'alfa-romeo'),\n",
       " Text(0, 0, 'porche'),\n",
       " Text(0, 0, 'mercedes-benz')]"
      ]
     },
     "execution_count": 24,
     "metadata": {},
     "output_type": "execute_result"
    },
    {
     "data": {
      "image/png": "[encoded data removed]",
      "text/plain": [
       "<Figure size 1440x720 with 1 Axes>"
      ]
     },
     "metadata": {},
     "output_type": "display_data"
    }
   ],
   "source": [
    "man_table = sqldf(\"\"\"select manufacturer, count(manufacturer), avg(price)\n",
    "            from df\n",
    "            group by manufacturer\n",
    "            order by avg(price) DESC\n",
    "            limit 10\"\"\")\n",
    "print(man_table)\n",
    "sns.set(style=\"darkgrid\")\n",
    "plt.figure(figsize=(20,10))\n",
    "totalsChart = sns.barplot(data=man_table, x='manufacturer',y='avg(price)')\n",
    "totalsChart.set_xticklabels(totalsChart.get_xticklabels(), rotation=45, horizontalalignment='right', fontsize=16)"
   ]
  },
  {
   "cell_type": "markdown",
   "metadata": {},
   "source": [
    "### 3. Does condition matter?"
   ]
  },
  {
   "cell_type": "code",
   "execution_count": 25,
   "metadata": {
    "scrolled": true
   },
   "outputs": [
    {
     "name": "stdout",
     "output_type": "stream",
     "text": [
      "  condition  count(condition)    avg(price)\n",
      "0   Unknown            158151  15483.056769\n",
      "1         2            132278  13131.721571\n",
      "2         1             93407  11611.265922\n",
      "3         0               609   3804.504105\n"
     ]
    },
    {
     "data": {
      "text/plain": [
       "[Text(0, 0, 'Unknown condition'),\n",
       " Text(0, 0, 'Amazing condition'),\n",
       " Text(0, 0, 'Descent condition'),\n",
       " Text(0, 0, 'Bad condition')]"
      ]
     },
     "execution_count": 25,
     "metadata": {},
     "output_type": "execute_result"
    },
    {
     "data": {
      "image/png": "[encoded data removed]",
      "text/plain": [
       "<Figure size 1440x720 with 1 Axes>"
      ]
     },
     "metadata": {},
     "output_type": "display_data"
    }
   ],
   "source": [
    "man_table = sqldf(\"\"\"select condition, count(condition), avg(price)\n",
    "            from df\n",
    "            group by condition\n",
    "            order by avg(price) DESC\n",
    "            limit 10\"\"\")\n",
    "print(man_table)\n",
    "sns.set(style=\"darkgrid\")\n",
    "plt.figure(figsize=(20,10))\n",
    "totalsChart = sns.barplot(data=man_table, x='condition',y='avg(price)')\n",
    "totalsChart.set_xticklabels(['Unknown condition', 'Amazing condition', 'Descent condition', 'Bad condition'], rotation=45, horizontalalignment='right', fontsize=16)"
   ]
  },
  {
   "cell_type": "markdown",
   "metadata": {},
   "source": [
    "-  Conclusion: As we can see the difference between a car in good condition and decent condition does not effect the price very much, but a car in very bad condition will effect the price... a lot!"
   ]
  },
  {
   "cell_type": "code",
   "execution_count": null,
   "metadata": {},
   "outputs": [],
   "source": []
  },
  {
   "cell_type": "markdown",
   "metadata": {},
   "source": [
    "# 4 Meaningful Data Visualizations"
   ]
  },
  {
   "cell_type": "markdown",
   "metadata": {},
   "source": [
    "### 1. Does the type of fuel effect the price of the car?"
   ]
  },
  {
   "cell_type": "code",
   "execution_count": 26,
   "metadata": {},
   "outputs": [
    {
     "name": "stdout",
     "output_type": "stream",
     "text": [
      "       fuel  count(fuel)    avg(price)\n",
      "0    diesel        29089  24312.401870\n",
      "1  electric          895  23000.246927\n",
      "2   Unknown         2381  18279.097858\n",
      "3     other        10815  17467.786870\n",
      "4       gas       337390  12656.881229\n",
      "5    hybrid         3875  10848.710194\n"
     ]
    },
    {
     "data": {
      "text/plain": [
       "[Text(0, 0, 'diesel'),\n",
       " Text(0, 0, 'electric'),\n",
       " Text(0, 0, 'Unknown'),\n",
       " Text(0, 0, 'other'),\n",
       " Text(0, 0, 'gas'),\n",
       " Text(0, 0, 'hybrid')]"
      ]
     },
     "execution_count": 26,
     "metadata": {},
     "output_type": "execute_result"
    },
    {
     "data": {
      "image/png": "[encoded data removed]",
      "text/plain": [
       "<Figure size 1440x720 with 1 Axes>"
      ]
     },
     "metadata": {},
     "output_type": "display_data"
    }
   ],
   "source": [
    "elec_gas_table = sqldf(\"\"\"select fuel, count(fuel), avg(price)\n",
    "            from df\n",
    "            group by fuel\n",
    "            order by avg(price) DESC\n",
    "            \"\"\")\n",
    "print(elec_gas_table)\n",
    "sns.set(style=\"darkgrid\")\n",
    "plt.figure(figsize=(20,10))\n",
    "plt.title(\"Fuel vs Price\", fontsize =20)\n",
    "totalsChart = sns.barplot(data=elec_gas_table, x='fuel',y='avg(price)')\n",
    "totalsChart.set_xticklabels(totalsChart.get_xticklabels(), rotation=45, horizontalalignment='right', fontsize=16)"
   ]
  },
  {
   "cell_type": "markdown",
   "metadata": {},
   "source": [
    "### 2. Which antique manufacturer's cars are worth the most?"
   ]
  },
  {
   "cell_type": "code",
   "execution_count": 27,
   "metadata": {},
   "outputs": [
    {
     "name": "stdout",
     "output_type": "stream",
     "text": [
      "  manufacturer  count(manufacturer)     avg(price)\n",
      "0      ferrari                   11  153903.454545\n",
      "1       morgan                    2   45000.000000\n",
      "2   land rover                    1   35000.000000\n",
      "3        rover                   16   26528.187500\n",
      "4       jaguar                   32   24813.968750\n",
      "5    chevrolet                 2590   19932.986100\n",
      "6       porche                    6   19366.666667\n",
      "7      pontiac                  330   17825.693939\n",
      "8       toyota                   86   17267.732558\n",
      "9         ford                 2070   16575.377295\n"
     ]
    },
    {
     "data": {
      "text/plain": [
       "[Text(0, 0, 'ferrari'),\n",
       " Text(0, 0, 'morgan'),\n",
       " Text(0, 0, 'land rover'),\n",
       " Text(0, 0, 'rover'),\n",
       " Text(0, 0, 'jaguar'),\n",
       " Text(0, 0, 'chevrolet'),\n",
       " Text(0, 0, 'porche'),\n",
       " Text(0, 0, 'pontiac'),\n",
       " Text(0, 0, 'toyota'),\n",
       " Text(0, 0, 'ford')]"
      ]
     },
     "execution_count": 27,
     "metadata": {},
     "output_type": "execute_result"
    },
    {
     "data": {
      "image/png": "[encoded data removed]",
      "text/plain": [
       "<Figure size 1440x720 with 1 Axes>"
      ]
     },
     "metadata": {},
     "output_type": "display_data"
    }
   ],
   "source": [
    "man_old_table = sqldf(\"\"\"select manufacturer, count(manufacturer), avg(price)\n",
    "            from df\n",
    "            where year < 1990\n",
    "            group by manufacturer\n",
    "            order by avg(price) DESC\n",
    "            limit 10\"\"\")\n",
    "print(man_old_table)\n",
    "sns.set(style=\"darkgrid\")\n",
    "plt.figure(figsize=(20,10))\n",
    "plt.title(\"Manufacturer vs Price (Antique)\", fontsize =20)\n",
    "totalsChart = sns.barplot(data=man_old_table, x='manufacturer',y='avg(price)')\n",
    "totalsChart.set_xticklabels(totalsChart.get_xticklabels(), rotation=45, horizontalalignment='right', fontsize=16)"
   ]
  },
  {
   "cell_type": "markdown",
   "metadata": {},
   "source": [
    "### 3. Which antique car models are worth the most?"
   ]
  },
  {
   "cell_type": "code",
   "execution_count": 28,
   "metadata": {},
   "outputs": [
    {
     "name": "stdout",
     "output_type": "stream",
     "text": [
      "                   model  count(model)  avg(price)\n",
      "0              365 gtc/4             5    275000.0\n",
      "1                  250se             1    135000.0\n",
      "2  series 62 convertible             4    113749.0\n",
      "3           280se 2-door             2    109000.0\n",
      "4             benz 190sl             2     93990.0\n",
      "5              resto mod             1     89000.0\n",
      "6            bus/vanagon             1     88000.0\n",
      "7            xke, e-type             1     84500.0\n",
      "8     belair convertible             1     84000.0\n",
      "9    bel air convertible             5     78699.0\n"
     ]
    },
    {
     "data": {
      "text/plain": [
       "[Text(0, 0, '365 gtc/4'),\n",
       " Text(0, 0, '250se'),\n",
       " Text(0, 0, 'series 62 convertible'),\n",
       " Text(0, 0, '280se 2-door'),\n",
       " Text(0, 0, 'benz 190sl'),\n",
       " Text(0, 0, 'resto mod'),\n",
       " Text(0, 0, 'bus/vanagon'),\n",
       " Text(0, 0, 'xke, e-type'),\n",
       " Text(0, 0, 'belair convertible'),\n",
       " Text(0, 0, 'bel air convertible')]"
      ]
     },
     "execution_count": 28,
     "metadata": {},
     "output_type": "execute_result"
    },
    {
     "data": {
      "image/png": "[encoded data removed]",
      "text/plain": [
       "<Figure size 1440x720 with 1 Axes>"
      ]
     },
     "metadata": {},
     "output_type": "display_data"
    }
   ],
   "source": [
    "mod_old_table = sqldf(\"\"\"select model, count(model), avg(price)\n",
    "            from df\n",
    "            where year < 1990\n",
    "            group by model\n",
    "            order by avg(price) DESC\n",
    "            limit 10\"\"\")\n",
    "print(mod_old_table)\n",
    "sns.set(style=\"darkgrid\")\n",
    "plt.figure(figsize=(20,10))\n",
    "plt.title(\"Model vs Price (Antique)\", fontsize =20)\n",
    "totalsChart = sns.barplot(data=mod_old_table, x='model',y='avg(price)')\n",
    "totalsChart.set_xticklabels(totalsChart.get_xticklabels(), rotation=45, horizontalalignment='right', fontsize=16)"
   ]
  },
  {
   "cell_type": "markdown",
   "metadata": {},
   "source": [
    "### 4. Age vs. Avg price"
   ]
  },
  {
   "cell_type": "code",
   "execution_count": 29,
   "metadata": {
    "scrolled": true
   },
   "outputs": [
    {
     "name": "stdout",
     "output_type": "stream",
     "text": [
      "      year  count(year)    avg(price)\n",
      "0   2020.0         2058  37078.775996\n",
      "1   2019.0        12950  27924.437375\n",
      "2   2018.0        17393  23508.151095\n",
      "3   2017.0        30528  21191.552051\n",
      "4   1960.0          965  20806.125389\n",
      "5   2016.0        28149  19832.768162\n",
      "6   1970.0         2599  18980.347826\n",
      "7   1950.0         1001  18303.698302\n",
      "8   2015.0       135373  14602.465462\n",
      "9   1980.0         2669  12802.819033\n",
      "10  2010.0        86705   8358.275843\n",
      "11  1990.0         3772   7696.802757\n",
      "12  2005.0        43415   6238.568536\n",
      "13  2021.0           28   5922.678571\n",
      "14  2000.0        16840   5768.648100\n"
     ]
    },
    {
     "data": {
      "text/plain": [
       "[Text(0, 0, '1950.0'),\n",
       " Text(0, 0, '1960.0'),\n",
       " Text(0, 0, '1970.0'),\n",
       " Text(0, 0, '1980.0'),\n",
       " Text(0, 0, '1990.0'),\n",
       " Text(0, 0, '2000.0'),\n",
       " Text(0, 0, '2005.0'),\n",
       " Text(0, 0, '2010.0'),\n",
       " Text(0, 0, '2015.0'),\n",
       " Text(0, 0, '2016.0'),\n",
       " Text(0, 0, '2017.0'),\n",
       " Text(0, 0, '2018.0'),\n",
       " Text(0, 0, '2019.0'),\n",
       " Text(0, 0, '2020.0'),\n",
       " Text(0, 0, '2021.0')]"
      ]
     },
     "execution_count": 29,
     "metadata": {},
     "output_type": "execute_result"
    },
    {
     "data": {
      "image/png": "[encoded data removed]",
      "text/plain": [
       "<Figure size 1440x720 with 1 Axes>"
      ]
     },
     "metadata": {},
     "output_type": "display_data"
    }
   ],
   "source": [
    "age_table = sqldf(\"\"\"select year, count(year), avg(price)\n",
    "            from df\n",
    "            group by year\n",
    "            order by avg(price) DESC\n",
    "            limit 15\"\"\")\n",
    "print(age_table)\n",
    "sns.set(style=\"darkgrid\")\n",
    "plt.figure(figsize=(20,10))\n",
    "plt.title(\"Year vs Price\", fontsize =20)\n",
    "totalsChart = sns.barplot(data=age_table, x='year',y='avg(price)')\n",
    "totalsChart.set_xticklabels(totalsChart.get_xticklabels(), rotation=45, horizontalalignment='right', fontsize=16)"
   ]
  },
  {
   "cell_type": "markdown",
   "metadata": {},
   "source": [
    "### 5. Odometer vs. Price"
   ]
  },
  {
   "cell_type": "code",
   "execution_count": 30,
   "metadata": {
    "scrolled": true
   },
   "outputs": [
    {
     "data": {
      "image/png": "[encoded data removed]",
      "text/plain": [
       "<Figure size 432x288 with 1 Axes>"
      ]
     },
     "metadata": {},
     "output_type": "display_data"
    }
   ],
   "source": [
    "\n",
    "\n",
    "np.random.seed(0)\n",
    "x = df['odometer']\n",
    "y = df['price']\n",
    "\n",
    "# transforming the data to include another axis\n",
    "x = x[:, np.newaxis]\n",
    "y = y[:, np.newaxis]\n",
    "\n",
    "model = LinearRegression()\n",
    "model.fit(x, y)\n",
    "y_pred = model.predict(x)\n",
    "\n",
    "plt.title(\"Odometer vs. Price\")\n",
    "plt.xlabel(\"Odometer\")\n",
    "plt.ylabel(\"Price\")\n",
    "plt.scatter(x, y, s=10)\n",
    "plt.plot(x, y_pred, color='r')\n",
    "plt.show()"
   ]
  },
  {
   "cell_type": "markdown",
   "metadata": {},
   "source": [
    "### 6. Age vs. Price"
   ]
  },
  {
   "cell_type": "code",
   "execution_count": 31,
   "metadata": {
    "scrolled": true
   },
   "outputs": [
    {
     "data": {
      "image/png": "[encoded data removed]",
      "text/plain": [
       "<Figure size 432x288 with 1 Axes>"
      ]
     },
     "metadata": {},
     "output_type": "display_data"
    }
   ],
   "source": [
    "\n",
    "\n",
    "np.random.seed(0)\n",
    "x = df['age']\n",
    "y = df['price']\n",
    "\n",
    "# transforming the data to include another axis\n",
    "x = x[:, np.newaxis]\n",
    "y = y[:, np.newaxis]\n",
    "\n",
    "model = LinearRegression()\n",
    "model.fit(x, y)\n",
    "y_pred = model.predict(x)\n",
    "\n",
    "plt.scatter(x, y, s=10)\n",
    "plt.plot(x, y_pred, color='r')\n",
    "plt.show()"
   ]
  },
  {
   "cell_type": "markdown",
   "metadata": {},
   "source": [
    "### 7. Age vs. Price (degree=2)"
   ]
  },
  {
   "cell_type": "code",
   "execution_count": 32,
   "metadata": {
    "scrolled": true
   },
   "outputs": [
    {
     "name": "stdout",
     "output_type": "stream",
     "text": [
      "9698.795360241516\n",
      "0.24724476916924287\n"
     ]
    },
    {
     "data": {
      "image/png": "[encoded data removed]",
      "text/plain": [
       "<Figure size 432x288 with 1 Axes>"
      ]
     },
     "metadata": {},
     "output_type": "display_data"
    }
   ],
   "source": [
    "\n",
    "\n",
    "x = df['age']\n",
    "y = df['price']\n",
    "\n",
    "# transforming the data to include another axis\n",
    "x = x[:, np.newaxis]\n",
    "y = y[:, np.newaxis]\n",
    "\n",
    "polynomial_features= PolynomialFeatures(degree=2)\n",
    "x_poly = polynomial_features.fit_transform(x)\n",
    "\n",
    "model = LinearRegression()\n",
    "model.fit(x_poly, y)\n",
    "y_poly_pred = model.predict(x_poly)\n",
    "\n",
    "rmse = np.sqrt(mean_squared_error(y,y_poly_pred))\n",
    "r2 = r2_score(y,y_poly_pred)\n",
    "print(rmse)\n",
    "print(r2)\n",
    "\n",
    "plt.scatter(x, y, s=10)\n",
    "# sort the values of x before line plot\n",
    "sort_axis = operator.itemgetter(0)\n",
    "sorted_zip = sorted(zip(x,y_poly_pred), key=sort_axis)\n",
    "x, y_poly_pred = zip(*sorted_zip)\n",
    "plt.plot(x, y_poly_pred, color='m')\n",
    "plt.show()"
   ]
  },
  {
   "cell_type": "markdown",
   "metadata": {},
   "source": [
    "These two graphs are very interesting because the first one shows us that as the age of the car goes up, the value goes down. The second graphs which is just the same graph with a polynomial feature shows us that really there is an inverted bell curve. The price of the car dips when it is around 20 years old and then it rises again. "
   ]
  },
  {
   "cell_type": "markdown",
   "metadata": {},
   "source": [
    "# Statistical Tests"
   ]
  },
  {
   "cell_type": "markdown",
   "metadata": {},
   "source": [
    "### 1. 2 sample t-test of means comparing the price of cars for electric and gas. \n",
    "- H0: electric cars and gas cars cost the same on average \n",
    "- Ha: electric cars and gas cars dont cost the same on average\n",
    "- Conclusion: since the p-value is less than alpha you can reject the null hypothesis that electric cars and gas cars cost the same"
   ]
  },
  {
   "cell_type": "code",
   "execution_count": 33,
   "metadata": {},
   "outputs": [
    {
     "data": {
      "text/plain": [
       "Ttest_indResult(statistic=-29.91870827337057, pvalue=2.0322910967814036e-196)"
      ]
     },
     "execution_count": 33,
     "metadata": {},
     "output_type": "execute_result"
    }
   ],
   "source": [
    "\n",
    "gas = df[df['fuel']=='gas']\n",
    "electric = df[df['fuel']=='electric']\n",
    "stats.ttest_ind(gas['price'], electric['price'])"
   ]
  },
  {
   "cell_type": "markdown",
   "metadata": {},
   "source": [
    "### 2. Anova test comparing the miles traveled of a car and the manufacturer\n",
    "- H0: there is no correlation between the manufacturer and the miles traveled of the car\n",
    "- Ha: there is a correlation between the manufacturer and the miles traveled of the car\n",
    "- Conclusion: since the p-value is less than alpha you can reject the null hypothesis that there is no correlation between manufacturer and miles traveled of a car"
   ]
  },
  {
   "cell_type": "code",
   "execution_count": 34,
   "metadata": {},
   "outputs": [
    {
     "data": {
      "text/plain": [
       "F_onewayResult(statistic=713.7323615769511, pvalue=0.0)"
      ]
     },
     "execution_count": 34,
     "metadata": {},
     "output_type": "execute_result"
    }
   ],
   "source": [
    "# The most popular manufacturers on craigslist \n",
    "\n",
    "ford = df[df['manufacturer']=='ford']\n",
    "chevrolet = df[df['manufacturer']=='chevrolet']\n",
    "toyota = df[df['manufacturer']=='toyota']\n",
    "nissan = df[df['manufacturer']=='nissan']\n",
    "honda = df[df['manufacturer']=='honda']\n",
    "stats.f_oneway(ford['odometer'], chevrolet['odometer'], toyota['odometer'], nissan['odometer'], honda['odometer'])"
   ]
  },
  {
   "cell_type": "markdown",
   "metadata": {},
   "source": [
    "### 3. One sample t-test comparing the mean age of a car on craigslist to the mean age of a car on the road\n",
    "- source: 12 years: https://www.usatoday.com/story/money/cars/2020/07/28/covid-average-vehicle-age-12-years/5524832002/\n",
    "- H0: mean age of car on craigslist = mean age of car on road\n",
    "- Ha: mean age of car on craigslist != mean age of car on road\n",
    "- Conclusion: since the p-value is less than alpha you can reject the null hypothesis that mean age of car on craigslist = mean age of car on road\n"
   ]
  },
  {
   "cell_type": "code",
   "execution_count": 35,
   "metadata": {
    "scrolled": true
   },
   "outputs": [
    {
     "data": {
      "text/plain": [
       "Ttest_1sampResult(statistic=-68.26051379894032, pvalue=0.0)"
      ]
     },
     "execution_count": 35,
     "metadata": {},
     "output_type": "execute_result"
    }
   ],
   "source": [
    "mean_age = df['age']\n",
    "stats.ttest_1samp(mean_age, 12)"
   ]
  },
  {
   "cell_type": "markdown",
   "metadata": {},
   "source": [
    "These tests helped in building the model as it allowed me to compare whether or not there was a significant difference in the price of electric vs gas cars. It also allowed to to see whether or not the mean age of cars on the road is similar to the mean age of cars on craigslist. Surprisingly, the cars on the road are younger than the used cars on craigslist. This helped me build a model because I normalized the age column by taking log(age + .1). I also measured gas vs electric and then made those dummy variables because the test showed that electric and gas cars dont cost the same "
   ]
  },
  {
   "cell_type": "markdown",
   "metadata": {},
   "source": [
    "## Baseline RMSE"
   ]
  },
  {
   "cell_type": "code",
   "execution_count": 36,
   "metadata": {},
   "outputs": [
    {
     "name": "stdout",
     "output_type": "stream",
     "text": [
      "9722.33605165766\n"
     ]
    }
   ],
   "source": [
    "base = ['age', 'odometer']\n",
    "target = df['price']\n",
    "scaler = StandardScaler()\n",
    "scaler.fit(df[base])\n",
    "lm = linear_model.LinearRegression()\n",
    "lm = lm.fit(df[base], target)\n",
    "predictions = lm.predict(df[base])\n",
    "rmse = np.sqrt(metrics.mean_squared_error(predictions, target))\n",
    "print(rmse)"
   ]
  },
  {
   "cell_type": "markdown",
   "metadata": {},
   "source": [
    "# Modeling"
   ]
  },
  {
   "cell_type": "markdown",
   "metadata": {},
   "source": [
    "### Identify categorical and create dummy columns"
   ]
  },
  {
   "cell_type": "code",
   "execution_count": 37,
   "metadata": {
    "scrolled": false
   },
   "outputs": [
    {
     "name": "stdout",
     "output_type": "stream",
     "text": [
      "<class 'pandas.core.frame.DataFrame'>\n",
      "Int64Index: 384445 entries, 0 to 435848\n",
      "Data columns (total 15 columns):\n",
      " #   Column        Non-Null Count   Dtype  \n",
      "---  ------        --------------   -----  \n",
      " 0   id            384445 non-null  int64  \n",
      " 1   region        384445 non-null  object \n",
      " 2   price         384445 non-null  int64  \n",
      " 3   year          384445 non-null  float64\n",
      " 4   manufacturer  384445 non-null  object \n",
      " 5   model         384445 non-null  object \n",
      " 6   condition     384445 non-null  object \n",
      " 7   cylinders     384445 non-null  object \n",
      " 8   fuel          384445 non-null  object \n",
      " 9   odometer      384445 non-null  float64\n",
      " 10  transmission  384445 non-null  object \n",
      " 11  drive         384445 non-null  object \n",
      " 12  type          384445 non-null  object \n",
      " 13  state         384445 non-null  object \n",
      " 14  age           384445 non-null  float64\n",
      "dtypes: float64(3), int64(2), object(10)\n",
      "memory usage: 46.9+ MB\n"
     ]
    }
   ],
   "source": [
    "df.info()"
   ]
  },
  {
   "cell_type": "code",
   "execution_count": 38,
   "metadata": {},
   "outputs": [
    {
     "data": {
      "text/html": [
       "<div>\n",
       "<style scoped>\n",
       "    .dataframe tbody tr th:only-of-type {\n",
       "        vertical-align: middle;\n",
       "    }\n",
       "\n",
       "    .dataframe tbody tr th {\n",
       "        vertical-align: top;\n",
       "    }\n",
       "\n",
       "    .dataframe thead th {\n",
       "        text-align: right;\n",
       "    }\n",
       "</style>\n",
       "<table border=\"1\" class=\"dataframe\">\n",
       "  <thead>\n",
       "    <tr style=\"text-align: right;\">\n",
       "      <th></th>\n",
       "      <th>id</th>\n",
       "      <th>region</th>\n",
       "      <th>price</th>\n",
       "      <th>model</th>\n",
       "      <th>odometer</th>\n",
       "      <th>age</th>\n",
       "      <th>st__al</th>\n",
       "      <th>st__ar</th>\n",
       "      <th>st__az</th>\n",
       "      <th>st__ca</th>\n",
       "      <th>...</th>\n",
       "      <th>year__2000.0</th>\n",
       "      <th>year__2005.0</th>\n",
       "      <th>year__2010.0</th>\n",
       "      <th>year__2015.0</th>\n",
       "      <th>year__2016.0</th>\n",
       "      <th>year__2017.0</th>\n",
       "      <th>year__2018.0</th>\n",
       "      <th>year__2019.0</th>\n",
       "      <th>year__2020.0</th>\n",
       "      <th>year__2021.0</th>\n",
       "    </tr>\n",
       "  </thead>\n",
       "  <tbody>\n",
       "    <tr>\n",
       "      <th>0</th>\n",
       "      <td>7119256118</td>\n",
       "      <td>mohave county</td>\n",
       "      <td>3495</td>\n",
       "      <td>patriot</td>\n",
       "      <td>93000.0</td>\n",
       "      <td>9.0</td>\n",
       "      <td>0</td>\n",
       "      <td>0</td>\n",
       "      <td>1</td>\n",
       "      <td>0</td>\n",
       "      <td>...</td>\n",
       "      <td>0</td>\n",
       "      <td>0</td>\n",
       "      <td>0</td>\n",
       "      <td>1</td>\n",
       "      <td>0</td>\n",
       "      <td>0</td>\n",
       "      <td>0</td>\n",
       "      <td>0</td>\n",
       "      <td>0</td>\n",
       "      <td>0</td>\n",
       "    </tr>\n",
       "    <tr>\n",
       "      <th>1</th>\n",
       "      <td>7120880186</td>\n",
       "      <td>oregon coast</td>\n",
       "      <td>13750</td>\n",
       "      <td>328i m-sport</td>\n",
       "      <td>76237.0</td>\n",
       "      <td>7.0</td>\n",
       "      <td>0</td>\n",
       "      <td>0</td>\n",
       "      <td>0</td>\n",
       "      <td>0</td>\n",
       "      <td>...</td>\n",
       "      <td>0</td>\n",
       "      <td>0</td>\n",
       "      <td>0</td>\n",
       "      <td>1</td>\n",
       "      <td>0</td>\n",
       "      <td>0</td>\n",
       "      <td>0</td>\n",
       "      <td>0</td>\n",
       "      <td>0</td>\n",
       "      <td>0</td>\n",
       "    </tr>\n",
       "    <tr>\n",
       "      <th>2</th>\n",
       "      <td>7115048251</td>\n",
       "      <td>greenville / upstate</td>\n",
       "      <td>2300</td>\n",
       "      <td>caravan</td>\n",
       "      <td>199000.0</td>\n",
       "      <td>20.0</td>\n",
       "      <td>0</td>\n",
       "      <td>0</td>\n",
       "      <td>0</td>\n",
       "      <td>0</td>\n",
       "      <td>...</td>\n",
       "      <td>0</td>\n",
       "      <td>1</td>\n",
       "      <td>0</td>\n",
       "      <td>0</td>\n",
       "      <td>0</td>\n",
       "      <td>0</td>\n",
       "      <td>0</td>\n",
       "      <td>0</td>\n",
       "      <td>0</td>\n",
       "      <td>0</td>\n",
       "    </tr>\n",
       "    <tr>\n",
       "      <th>3</th>\n",
       "      <td>7119250502</td>\n",
       "      <td>mohave county</td>\n",
       "      <td>9000</td>\n",
       "      <td>colorado ls</td>\n",
       "      <td>54000.0</td>\n",
       "      <td>17.0</td>\n",
       "      <td>0</td>\n",
       "      <td>0</td>\n",
       "      <td>1</td>\n",
       "      <td>0</td>\n",
       "      <td>...</td>\n",
       "      <td>0</td>\n",
       "      <td>1</td>\n",
       "      <td>0</td>\n",
       "      <td>0</td>\n",
       "      <td>0</td>\n",
       "      <td>0</td>\n",
       "      <td>0</td>\n",
       "      <td>0</td>\n",
       "      <td>0</td>\n",
       "      <td>0</td>\n",
       "    </tr>\n",
       "    <tr>\n",
       "      <th>7</th>\n",
       "      <td>7120430837</td>\n",
       "      <td>maine</td>\n",
       "      <td>8500</td>\n",
       "      <td>mustang convertible</td>\n",
       "      <td>62800.0</td>\n",
       "      <td>16.0</td>\n",
       "      <td>0</td>\n",
       "      <td>0</td>\n",
       "      <td>0</td>\n",
       "      <td>0</td>\n",
       "      <td>...</td>\n",
       "      <td>0</td>\n",
       "      <td>1</td>\n",
       "      <td>0</td>\n",
       "      <td>0</td>\n",
       "      <td>0</td>\n",
       "      <td>0</td>\n",
       "      <td>0</td>\n",
       "      <td>0</td>\n",
       "      <td>0</td>\n",
       "      <td>0</td>\n",
       "    </tr>\n",
       "  </tbody>\n",
       "</table>\n",
       "<p>5 rows × 146 columns</p>\n",
       "</div>"
      ],
      "text/plain": [
       "           id                region  price                model  odometer  \\\n",
       "0  7119256118         mohave county   3495              patriot   93000.0   \n",
       "1  7120880186          oregon coast  13750         328i m-sport   76237.0   \n",
       "2  7115048251  greenville / upstate   2300              caravan  199000.0   \n",
       "3  7119250502         mohave county   9000          colorado ls   54000.0   \n",
       "7  7120430837                 maine   8500  mustang convertible   62800.0   \n",
       "\n",
       "    age  st__al  st__ar  st__az  st__ca  ...  year__2000.0  year__2005.0  \\\n",
       "0   9.0       0       0       1       0  ...             0             0   \n",
       "1   7.0       0       0       0       0  ...             0             0   \n",
       "2  20.0       0       0       0       0  ...             0             1   \n",
       "3  17.0       0       0       1       0  ...             0             1   \n",
       "7  16.0       0       0       0       0  ...             0             1   \n",
       "\n",
       "   year__2010.0  year__2015.0  year__2016.0  year__2017.0  year__2018.0  \\\n",
       "0             0             1             0             0             0   \n",
       "1             0             1             0             0             0   \n",
       "2             0             0             0             0             0   \n",
       "3             0             0             0             0             0   \n",
       "7             0             0             0             0             0   \n",
       "\n",
       "   year__2019.0  year__2020.0  year__2021.0  \n",
       "0             0             0             0  \n",
       "1             0             0             0  \n",
       "2             0             0             0  \n",
       "3             0             0             0  \n",
       "7             0             0             0  \n",
       "\n",
       "[5 rows x 146 columns]"
      ]
     },
     "execution_count": 38,
     "metadata": {},
     "output_type": "execute_result"
    }
   ],
   "source": [
    "# state\n",
    "st_dummies = pd.get_dummies(df['state'], drop_first=True, prefix='st_')\n",
    "# type\n",
    "type_dummies = pd.get_dummies(df['type'], drop_first=True, prefix='type_')\n",
    "# drive\n",
    "drive_dummies = pd.get_dummies(df['drive'], drop_first=True, prefix='drive_')\n",
    "# transmission\n",
    "trans_dummies = pd.get_dummies(df['transmission'], drop_first=True, prefix='trans_')\n",
    "# fuel\n",
    "fuel_dummies = pd.get_dummies(df['fuel'], drop_first=True, prefix='fuel_')\n",
    "# cylinders\n",
    "cyl_dummies = pd.get_dummies(df['cylinders'], drop_first=True, prefix='cyl_')\n",
    "# condition\n",
    "cond_dummies = pd.get_dummies(df['condition'], drop_first=True, prefix='cond_')\n",
    "# manufacturer\n",
    "man_dummies = pd.get_dummies(df['manufacturer'], drop_first=True, prefix='man_')\n",
    "# year\n",
    "year_dummies = pd.get_dummies(df['year'], drop_first=True, prefix='year_')\n",
    "\n",
    "df = df.drop(['state','type','drive', 'transmission', 'fuel', 'cylinders', 'condition',\n",
    "                             'manufacturer', 'year'], axis=1)\n",
    "\n",
    "df = pd.concat([df, st_dummies, type_dummies, drive_dummies, trans_dummies, fuel_dummies, \n",
    "                       cyl_dummies, cond_dummies, man_dummies, year_dummies], axis=1)\n",
    "df.head()\n"
   ]
  },
  {
   "cell_type": "code",
   "execution_count": 39,
   "metadata": {},
   "outputs": [],
   "source": [
    "# Identify Multicollinearity\n",
    "dt_pred = df"
   ]
  },
  {
   "cell_type": "code",
   "execution_count": 40,
   "metadata": {},
   "outputs": [],
   "source": [
    "# save absolute value of correlation matrix as a data frame\n",
    "# converts all values to absolute value\n",
    "# stacks the row:column pairs into a multindex\n",
    "# reset the index to set the multindex to seperate columns\n",
    "# sort values. 0 is the column automatically generated by the stacking\n",
    "\n",
    "df1=dt_pred.corr().abs().stack().reset_index().sort_values(0, ascending=False)\n",
    "\n",
    "# zip the variable name columns (Which were only named level_0 and level_1 by default) in a new column named \"pairs\"\n",
    "df1['pairs'] = list(zip(df1.level_0, df1.level_1))\n",
    "\n",
    "# set index to pairs\n",
    "df1.set_index(['pairs'], inplace = True)\n",
    "\n",
    "#drop level columns\n",
    "df1.drop(columns=['level_1', 'level_0'], inplace = True)\n",
    "\n",
    "# rename correlation column as cc rather than 0\n",
    "df1.columns = ['cc']\n",
    "df1.drop_duplicates(inplace=True)"
   ]
  },
  {
   "cell_type": "code",
   "execution_count": 41,
   "metadata": {},
   "outputs": [
    {
     "data": {
      "text/html": [
       "<div>\n",
       "<style scoped>\n",
       "    .dataframe tbody tr th:only-of-type {\n",
       "        vertical-align: middle;\n",
       "    }\n",
       "\n",
       "    .dataframe tbody tr th {\n",
       "        vertical-align: top;\n",
       "    }\n",
       "\n",
       "    .dataframe thead th {\n",
       "        text-align: right;\n",
       "    }\n",
       "</style>\n",
       "<table border=\"1\" class=\"dataframe\">\n",
       "  <thead>\n",
       "    <tr style=\"text-align: right;\">\n",
       "      <th></th>\n",
       "      <th>cc</th>\n",
       "    </tr>\n",
       "    <tr>\n",
       "      <th>pairs</th>\n",
       "      <th></th>\n",
       "    </tr>\n",
       "  </thead>\n",
       "  <tbody>\n",
       "    <tr>\n",
       "      <th>(fuel__gas, fuel__diesel)</th>\n",
       "      <td>0.766118</td>\n",
       "    </tr>\n",
       "  </tbody>\n",
       "</table>\n",
       "</div>"
      ],
      "text/plain": [
       "                                 cc\n",
       "pairs                              \n",
       "(fuel__gas, fuel__diesel)  0.766118"
      ]
     },
     "execution_count": 41,
     "metadata": {},
     "output_type": "execute_result"
    }
   ],
   "source": [
    "df1[(df1.cc>.75) & (df1.cc <1)]"
   ]
  },
  {
   "cell_type": "code",
   "execution_count": 42,
   "metadata": {},
   "outputs": [
    {
     "data": {
      "text/html": [
       "<table class=\"simpletable\">\n",
       "<caption>OLS Regression Results</caption>\n",
       "<tr>\n",
       "  <th>Dep. Variable:</th>          <td>price</td>      <th>  R-squared:         </th>  <td>   0.244</td>  \n",
       "</tr>\n",
       "<tr>\n",
       "  <th>Model:</th>                   <td>OLS</td>       <th>  Adj. R-squared:    </th>  <td>   0.244</td>  \n",
       "</tr>\n",
       "<tr>\n",
       "  <th>Method:</th>             <td>Least Squares</td>  <th>  F-statistic:       </th>  <td>6.190e+04</td> \n",
       "</tr>\n",
       "<tr>\n",
       "  <th>Date:</th>             <td>Thu, 30 Jul 2020</td> <th>  Prob (F-statistic):</th>   <td>  0.00</td>   \n",
       "</tr>\n",
       "<tr>\n",
       "  <th>Time:</th>                 <td>21:38:26</td>     <th>  Log-Likelihood:    </th> <td>-4.0755e+06</td>\n",
       "</tr>\n",
       "<tr>\n",
       "  <th>No. Observations:</th>      <td>384445</td>      <th>  AIC:               </th>  <td>8.151e+06</td> \n",
       "</tr>\n",
       "<tr>\n",
       "  <th>Df Residuals:</th>          <td>384442</td>      <th>  BIC:               </th>  <td>8.151e+06</td> \n",
       "</tr>\n",
       "<tr>\n",
       "  <th>Df Model:</th>              <td>     2</td>      <th>                     </th>      <td> </td>     \n",
       "</tr>\n",
       "<tr>\n",
       "  <th>Covariance Type:</th>      <td>nonrobust</td>    <th>                     </th>      <td> </td>     \n",
       "</tr>\n",
       "</table>\n",
       "<table class=\"simpletable\">\n",
       "<tr>\n",
       "      <td></td>         <th>coef</th>     <th>std err</th>      <th>t</th>      <th>P>|t|</th>  <th>[0.025</th>    <th>0.975]</th>  \n",
       "</tr>\n",
       "<tr>\n",
       "  <th>Intercept</th> <td> 2.426e+04</td> <td>   33.908</td> <td>  715.484</td> <td> 0.000</td> <td> 2.42e+04</td> <td> 2.43e+04</td>\n",
       "</tr>\n",
       "<tr>\n",
       "  <th>age</th>       <td> -211.1052</td> <td>    1.859</td> <td> -113.561</td> <td> 0.000</td> <td> -214.749</td> <td> -207.462</td>\n",
       "</tr>\n",
       "<tr>\n",
       "  <th>odometer</th>  <td>   -0.0838</td> <td>    0.000</td> <td> -284.205</td> <td> 0.000</td> <td>   -0.084</td> <td>   -0.083</td>\n",
       "</tr>\n",
       "</table>\n",
       "<table class=\"simpletable\">\n",
       "<tr>\n",
       "  <th>Omnibus:</th>       <td>292291.064</td> <th>  Durbin-Watson:     </th>   <td>   1.797</td>  \n",
       "</tr>\n",
       "<tr>\n",
       "  <th>Prob(Omnibus):</th>   <td> 0.000</td>   <th>  Jarque-Bera (JB):  </th> <td>21431117.504</td>\n",
       "</tr>\n",
       "<tr>\n",
       "  <th>Skew:</th>            <td> 3.071</td>   <th>  Prob(JB):          </th>   <td>    0.00</td>  \n",
       "</tr>\n",
       "<tr>\n",
       "  <th>Kurtosis:</th>        <td>39.058</td>   <th>  Cond. No.          </th>   <td>2.44e+05</td>  \n",
       "</tr>\n",
       "</table><br/><br/>Warnings:<br/>[1] Standard Errors assume that the covariance matrix of the errors is correctly specified.<br/>[2] The condition number is large, 2.44e+05. This might indicate that there are<br/>strong multicollinearity or other numerical problems."
      ],
      "text/plain": [
       "<class 'statsmodels.iolib.summary.Summary'>\n",
       "\"\"\"\n",
       "                            OLS Regression Results                            \n",
       "==============================================================================\n",
       "Dep. Variable:                  price   R-squared:                       0.244\n",
       "Model:                            OLS   Adj. R-squared:                  0.244\n",
       "Method:                 Least Squares   F-statistic:                 6.190e+04\n",
       "Date:                Thu, 30 Jul 2020   Prob (F-statistic):               0.00\n",
       "Time:                        21:38:26   Log-Likelihood:            -4.0755e+06\n",
       "No. Observations:              384445   AIC:                         8.151e+06\n",
       "Df Residuals:                  384442   BIC:                         8.151e+06\n",
       "Df Model:                           2                                         \n",
       "Covariance Type:            nonrobust                                         \n",
       "==============================================================================\n",
       "                 coef    std err          t      P>|t|      [0.025      0.975]\n",
       "------------------------------------------------------------------------------\n",
       "Intercept   2.426e+04     33.908    715.484      0.000    2.42e+04    2.43e+04\n",
       "age         -211.1052      1.859   -113.561      0.000    -214.749    -207.462\n",
       "odometer      -0.0838      0.000   -284.205      0.000      -0.084      -0.083\n",
       "==============================================================================\n",
       "Omnibus:                   292291.064   Durbin-Watson:                   1.797\n",
       "Prob(Omnibus):                  0.000   Jarque-Bera (JB):         21431117.504\n",
       "Skew:                           3.071   Prob(JB):                         0.00\n",
       "Kurtosis:                      39.058   Cond. No.                     2.44e+05\n",
       "==============================================================================\n",
       "\n",
       "Warnings:\n",
       "[1] Standard Errors assume that the covariance matrix of the errors is correctly specified.\n",
       "[2] The condition number is large, 2.44e+05. This might indicate that there are\n",
       "strong multicollinearity or other numerical problems.\n",
       "\"\"\""
      ]
     },
     "execution_count": 42,
     "metadata": {},
     "output_type": "execute_result"
    }
   ],
   "source": [
    "\n",
    "outcome = 'price'\n",
    "x_cols = ['age', 'odometer']\n",
    "predictors = '+'.join(x_cols)\n",
    "formula = outcome + '~' + predictors\n",
    "model = ols(formula=formula, data=df).fit()\n",
    "model.summary()"
   ]
  },
  {
   "cell_type": "markdown",
   "metadata": {},
   "source": [
    "Neither of the continuous variables have a p-val > .05 so I kept them in the data set"
   ]
  },
  {
   "cell_type": "code",
   "execution_count": 43,
   "metadata": {},
   "outputs": [
    {
     "data": {
      "image/png": "[encoded data removed]",
      "text/plain": [
       "<Figure size 432x432 with 1 Axes>"
      ]
     },
     "metadata": {},
     "output_type": "display_data"
    }
   ],
   "source": [
    "data_pred = df\n",
    "data_pred[['age']].hist(figsize  = [6, 6]); "
   ]
  },
  {
   "cell_type": "code",
   "execution_count": 44,
   "metadata": {},
   "outputs": [],
   "source": [
    "#df['age'] = df['age']+.01\n",
    "# add .01 bc cant take log of 0"
   ]
  },
  {
   "cell_type": "code",
   "execution_count": 45,
   "metadata": {},
   "outputs": [],
   "source": [
    "df['logage'] = np.log(data_pred['age']+1)"
   ]
  },
  {
   "cell_type": "markdown",
   "metadata": {},
   "source": [
    "### Train-Test-Split"
   ]
  },
  {
   "cell_type": "code",
   "execution_count": 46,
   "metadata": {},
   "outputs": [],
   "source": [
    "features = ['odometer', 'logage', 'st__al', 'st__ar', 'st__az', 'st__ca', 'st__co', 'st__ct', 'st__dc', 'st__de', 'st__fl', 'st__ga', 'st__hi', 'st__ia', 'st__id', 'st__il', 'st__in', 'st__ks', 'st__ky', 'st__la', 'st__ma', 'st__md', 'st__me', 'st__mi', 'st__mn', 'st__mo', 'st__ms', 'st__mt', 'st__nc', 'st__nd', 'st__ne', 'st__nh', 'st__nj', 'st__nm', 'st__nv', 'st__ny', 'st__oh', 'st__ok', 'st__or', 'st__pa', 'st__ri', 'st__sc', 'st__sd', 'st__tn', 'st__tx', 'st__ut', 'st__va', 'st__vt', 'st__wa', 'st__wi', 'st__wv', 'st__wy', 'type__Unknown', 'type__bus', 'type__convertible', 'type__coupe', 'type__hatchback', 'type__mini-van', 'type__offroad', 'type__other', 'type__pickup', 'type__sedan', 'type__truck', 'type__van', 'type__wagon', 'drive__Unknown', 'drive__fwd', 'drive__rwd', 'trans__automatic', 'trans__manual', 'trans__other', 'fuel__diesel', 'fuel__electric', 'fuel__gas', 'fuel__hybrid', 'fuel__other', 'cyl__12 cylinders', 'cyl__3 cylinders', 'cyl__4 cylinders', 'cyl__5 cylinders', 'cyl__6 cylinders', 'cyl__8 cylinders', 'cyl__Unknown', 'cyl__other', 'cond__1', 'cond__2', 'cond__Unknown', 'man__alfa-romeo', 'man__aston-martin', 'man__audi', 'man__bmw', 'man__buick', 'man__cadillac', 'man__chevrolet', 'man__chrysler', 'man__datsun', 'man__dodge', 'man__ferrari', 'man__fiat', 'man__ford', 'man__gmc', 'man__harley-davidson', 'man__honda', 'man__hyundai', 'man__infiniti', 'man__jaguar', 'man__jeep', 'man__kia', 'man__land rover', 'man__lexus', 'man__lincoln', 'man__mazda', 'man__mercedes-benz', 'man__mercury', 'man__mini', 'man__mitsubishi', 'man__morgan', 'man__nissan', 'man__pontiac', 'man__porche', 'man__ram', 'man__rover', 'man__saturn', 'man__subaru', 'man__tesla', 'man__toyota', 'man__volkswagen', 'man__volvo', 'year__1960.0', 'year__1970.0', 'year__1980.0', 'year__1990.0', 'year__2000.0', 'year__2005.0', 'year__2010.0', 'year__2015.0', 'year__2016.0', 'year__2017.0', 'year__2018.0', 'year__2019.0', 'year__2020.0', 'year__2021.0']\n",
    "target = df['price']\n",
    "df_features = df[features]"
   ]
  },
  {
   "cell_type": "code",
   "execution_count": 47,
   "metadata": {},
   "outputs": [
    {
     "name": "stdout",
     "output_type": "stream",
     "text": [
      "Training RMSE: 7113.714250046302\n",
      "Testing RMSE: 7177.686579108247\n"
     ]
    }
   ],
   "source": [
    "X_train, X_test, y_train, y_test = train_test_split(df_features, target, random_state=34,test_size=0.3)\n",
    "# scaler = StandardScaler()\n",
    "# scaler.fit(X_train)\n",
    "# X_train = pd.DataFrame(data=scaler.transform(X_train), columns=X_train.columns)\n",
    "lm = LinearRegression()\n",
    "lm = lm.fit(X_train, y_train)\n",
    "y_train_pred = lm.predict(X_train)\n",
    "y_pred = lm.predict(X_test)\n",
    "train_rmse = np.sqrt(metrics.mean_squared_error(y_train, y_train_pred))\n",
    "print('Training RMSE:' , train_rmse)\n",
    "test_rmse = np.sqrt(metrics.mean_squared_error(y_test, y_pred))\n",
    "print('Testing RMSE:' , test_rmse)"
   ]
  },
  {
   "cell_type": "markdown",
   "metadata": {},
   "source": [
    "The model is fit as the test error is almost equal to the training error"
   ]
  },
  {
   "cell_type": "code",
   "execution_count": 48,
   "metadata": {},
   "outputs": [
    {
     "name": "stdout",
     "output_type": "stream",
     "text": [
      "9419.548975320044\n"
     ]
    }
   ],
   "source": [
    "#baseline model with log age\n",
    "base = ['logage', 'odometer']\n",
    "scaler = StandardScaler()\n",
    "scaler.fit(df[base])\n",
    "lm = linear_model.LinearRegression()\n",
    "lm = lm.fit(df[base], target)\n",
    "predictions = lm.predict(df[base])\n",
    "rmse = np.sqrt(metrics.mean_squared_error(predictions, target))\n",
    "print(rmse)"
   ]
  },
  {
   "cell_type": "code",
   "execution_count": 49,
   "metadata": {},
   "outputs": [
    {
     "name": "stdout",
     "output_type": "stream",
     "text": [
      "7130.729169077128\n"
     ]
    }
   ],
   "source": [
    "# Model with all features\n",
    "scaler = StandardScaler()\n",
    "scaler.fit(df[features])\n",
    "lm = linear_model.LinearRegression()\n",
    "lm = lm.fit(df[features], target)\n",
    "predictions = lm.predict(df[features])\n",
    "rmse = np.sqrt(metrics.mean_squared_error(predictions, target))\n",
    "print(rmse)"
   ]
  },
  {
   "cell_type": "markdown",
   "metadata": {},
   "source": [
    "### F test"
   ]
  },
  {
   "cell_type": "code",
   "execution_count": 50,
   "metadata": {},
   "outputs": [],
   "source": [
    "selector = SelectKBest(f_regression, k=55)\n",
    "selector.fit(X_train, y_train)\n",
    "selected_columns = X_train.columns[selector.get_support()]\n",
    "removed_columns = X_train.columns[~selector.get_support()]"
   ]
  },
  {
   "cell_type": "code",
   "execution_count": 51,
   "metadata": {},
   "outputs": [
    {
     "name": "stdout",
     "output_type": "stream",
     "text": [
      "Training Root Mean Squared Error: 7295.867886907799\n",
      "Testing Root Mean Squared Error: 7372.950639960511\n",
      "Original:  7177.686579108247 vs. KBest:  7372.950639960511\n"
     ]
    }
   ],
   "source": [
    "#instantiate a linear regression object\n",
    "lm_kbest = LinearRegression()\n",
    "#fit the linear regression to the data\n",
    "lm_kbest = lm_kbest.fit(X_train[selected_columns], y_train)\n",
    "\n",
    "y_train_kbest = lm_kbest.predict(X_train[selected_columns])\n",
    "y_kbest = lm_kbest.predict(X_test[selected_columns])\n",
    "\n",
    "trainK_rmse = np.sqrt(metrics.mean_squared_error(y_train, y_train_kbest))\n",
    "testK_rmse = np.sqrt(metrics.mean_squared_error(y_test, y_kbest))\n",
    "\n",
    "print('Training Root Mean Squared Error:' , trainK_rmse)\n",
    "print('Testing Root Mean Squared Error:' , testK_rmse)\n",
    "print('Original: ', test_rmse, \"vs. KBest: \", testK_rmse)"
   ]
  },
  {
   "cell_type": "markdown",
   "metadata": {},
   "source": [
    "### Lasso"
   ]
  },
  {
   "cell_type": "code",
   "execution_count": 52,
   "metadata": {
    "scrolled": true
   },
   "outputs": [
    {
     "name": "stderr",
     "output_type": "stream",
     "text": [
      "/Users/yehudaschein/opt/anaconda3/lib/python3.7/site-packages/sklearn/linear_model/_coordinate_descent.py:476: ConvergenceWarning: Objective did not converge. You might want to increase the number of iterations. Duality gap: 6955856747262.004, tolerance: 3369953626.401535\n",
      "  positive)\n"
     ]
    },
    {
     "name": "stdout",
     "output_type": "stream",
     "text": [
      "Training Error: 7128.2558943354725\n",
      "Testing Error: 7184.04095420096\n"
     ]
    }
   ],
   "source": [
    "## training the model\n",
    "\n",
    "\n",
    "lasso = Lasso(alpha=1, normalize=False)\n",
    "lasso.fit(X_train,y_train)\n",
    "\n",
    "y_train_pred = lasso.predict(X_train)\n",
    "y_pred = lasso.predict(X_test)\n",
    "\n",
    "train_rmse = np.sqrt(metrics.mean_squared_error(y_train, y_train_pred))\n",
    "test_rmse = np.sqrt(metrics.mean_squared_error(y_test, y_pred))\n",
    "\n",
    "print('Training Error: '+ str(train_rmse) )\n",
    "print('Testing Error: '+ str(test_rmse) )\n"
   ]
  },
  {
   "cell_type": "code",
   "execution_count": 53,
   "metadata": {},
   "outputs": [],
   "source": [
    "pd.set_option('display.max_rows', 150)"
   ]
  },
  {
   "cell_type": "code",
   "execution_count": 54,
   "metadata": {},
   "outputs": [
    {
     "data": {
      "text/html": [
       "<div>\n",
       "<style scoped>\n",
       "    .dataframe tbody tr th:only-of-type {\n",
       "        vertical-align: middle;\n",
       "    }\n",
       "\n",
       "    .dataframe tbody tr th {\n",
       "        vertical-align: top;\n",
       "    }\n",
       "\n",
       "    .dataframe thead th {\n",
       "        text-align: right;\n",
       "    }\n",
       "</style>\n",
       "<table border=\"1\" class=\"dataframe\">\n",
       "  <thead>\n",
       "    <tr style=\"text-align: right;\">\n",
       "      <th></th>\n",
       "      <th>0</th>\n",
       "    </tr>\n",
       "  </thead>\n",
       "  <tbody>\n",
       "    <tr>\n",
       "      <th>odometer</th>\n",
       "      <td>-0.043431</td>\n",
       "    </tr>\n",
       "    <tr>\n",
       "      <th>logage</th>\n",
       "      <td>-8059.723574</td>\n",
       "    </tr>\n",
       "    <tr>\n",
       "      <th>st__al</th>\n",
       "      <td>333.619071</td>\n",
       "    </tr>\n",
       "    <tr>\n",
       "      <th>st__ar</th>\n",
       "      <td>763.896183</td>\n",
       "    </tr>\n",
       "    <tr>\n",
       "      <th>st__az</th>\n",
       "      <td>-65.920817</td>\n",
       "    </tr>\n",
       "    <tr>\n",
       "      <th>st__ca</th>\n",
       "      <td>280.476949</td>\n",
       "    </tr>\n",
       "    <tr>\n",
       "      <th>st__co</th>\n",
       "      <td>409.070858</td>\n",
       "    </tr>\n",
       "    <tr>\n",
       "      <th>st__ct</th>\n",
       "      <td>-651.382769</td>\n",
       "    </tr>\n",
       "    <tr>\n",
       "      <th>st__dc</th>\n",
       "      <td>-1078.374219</td>\n",
       "    </tr>\n",
       "    <tr>\n",
       "      <th>st__de</th>\n",
       "      <td>-0.000000</td>\n",
       "    </tr>\n",
       "    <tr>\n",
       "      <th>st__fl</th>\n",
       "      <td>-1100.671502</td>\n",
       "    </tr>\n",
       "    <tr>\n",
       "      <th>st__ga</th>\n",
       "      <td>-216.272177</td>\n",
       "    </tr>\n",
       "    <tr>\n",
       "      <th>st__hi</th>\n",
       "      <td>822.645104</td>\n",
       "    </tr>\n",
       "    <tr>\n",
       "      <th>st__ia</th>\n",
       "      <td>-520.735983</td>\n",
       "    </tr>\n",
       "    <tr>\n",
       "      <th>st__id</th>\n",
       "      <td>989.084035</td>\n",
       "    </tr>\n",
       "    <tr>\n",
       "      <th>st__il</th>\n",
       "      <td>-1130.557584</td>\n",
       "    </tr>\n",
       "    <tr>\n",
       "      <th>st__in</th>\n",
       "      <td>-116.259816</td>\n",
       "    </tr>\n",
       "    <tr>\n",
       "      <th>st__ks</th>\n",
       "      <td>0.000000</td>\n",
       "    </tr>\n",
       "    <tr>\n",
       "      <th>st__ky</th>\n",
       "      <td>-115.714081</td>\n",
       "    </tr>\n",
       "    <tr>\n",
       "      <th>st__la</th>\n",
       "      <td>-774.448194</td>\n",
       "    </tr>\n",
       "    <tr>\n",
       "      <th>st__ma</th>\n",
       "      <td>-1627.383682</td>\n",
       "    </tr>\n",
       "    <tr>\n",
       "      <th>st__md</th>\n",
       "      <td>-763.437639</td>\n",
       "    </tr>\n",
       "    <tr>\n",
       "      <th>st__me</th>\n",
       "      <td>-2911.388667</td>\n",
       "    </tr>\n",
       "    <tr>\n",
       "      <th>st__mi</th>\n",
       "      <td>-543.467092</td>\n",
       "    </tr>\n",
       "    <tr>\n",
       "      <th>st__mn</th>\n",
       "      <td>-263.318041</td>\n",
       "    </tr>\n",
       "    <tr>\n",
       "      <th>st__mo</th>\n",
       "      <td>302.051372</td>\n",
       "    </tr>\n",
       "    <tr>\n",
       "      <th>st__ms</th>\n",
       "      <td>-0.000000</td>\n",
       "    </tr>\n",
       "    <tr>\n",
       "      <th>st__mt</th>\n",
       "      <td>2481.151517</td>\n",
       "    </tr>\n",
       "    <tr>\n",
       "      <th>st__nc</th>\n",
       "      <td>120.432136</td>\n",
       "    </tr>\n",
       "    <tr>\n",
       "      <th>st__nd</th>\n",
       "      <td>0.000000</td>\n",
       "    </tr>\n",
       "    <tr>\n",
       "      <th>st__ne</th>\n",
       "      <td>-0.000000</td>\n",
       "    </tr>\n",
       "    <tr>\n",
       "      <th>st__nh</th>\n",
       "      <td>-2037.373013</td>\n",
       "    </tr>\n",
       "    <tr>\n",
       "      <th>st__nj</th>\n",
       "      <td>-1540.464253</td>\n",
       "    </tr>\n",
       "    <tr>\n",
       "      <th>st__nm</th>\n",
       "      <td>18.217673</td>\n",
       "    </tr>\n",
       "    <tr>\n",
       "      <th>st__nv</th>\n",
       "      <td>-0.000000</td>\n",
       "    </tr>\n",
       "    <tr>\n",
       "      <th>st__ny</th>\n",
       "      <td>-869.576641</td>\n",
       "    </tr>\n",
       "    <tr>\n",
       "      <th>st__oh</th>\n",
       "      <td>-1077.575203</td>\n",
       "    </tr>\n",
       "    <tr>\n",
       "      <th>st__ok</th>\n",
       "      <td>71.175727</td>\n",
       "    </tr>\n",
       "    <tr>\n",
       "      <th>st__or</th>\n",
       "      <td>-263.718367</td>\n",
       "    </tr>\n",
       "    <tr>\n",
       "      <th>st__pa</th>\n",
       "      <td>-818.796255</td>\n",
       "    </tr>\n",
       "    <tr>\n",
       "      <th>st__ri</th>\n",
       "      <td>-474.207692</td>\n",
       "    </tr>\n",
       "    <tr>\n",
       "      <th>st__sc</th>\n",
       "      <td>505.442563</td>\n",
       "    </tr>\n",
       "    <tr>\n",
       "      <th>st__sd</th>\n",
       "      <td>759.464541</td>\n",
       "    </tr>\n",
       "    <tr>\n",
       "      <th>st__tn</th>\n",
       "      <td>-0.000000</td>\n",
       "    </tr>\n",
       "    <tr>\n",
       "      <th>st__tx</th>\n",
       "      <td>-355.918518</td>\n",
       "    </tr>\n",
       "    <tr>\n",
       "      <th>st__ut</th>\n",
       "      <td>389.382773</td>\n",
       "    </tr>\n",
       "    <tr>\n",
       "      <th>st__va</th>\n",
       "      <td>-146.036200</td>\n",
       "    </tr>\n",
       "    <tr>\n",
       "      <th>st__vt</th>\n",
       "      <td>-2167.476858</td>\n",
       "    </tr>\n",
       "    <tr>\n",
       "      <th>st__wa</th>\n",
       "      <td>1562.763678</td>\n",
       "    </tr>\n",
       "    <tr>\n",
       "      <th>st__wi</th>\n",
       "      <td>16.671137</td>\n",
       "    </tr>\n",
       "    <tr>\n",
       "      <th>st__wv</th>\n",
       "      <td>130.812531</td>\n",
       "    </tr>\n",
       "    <tr>\n",
       "      <th>st__wy</th>\n",
       "      <td>476.657569</td>\n",
       "    </tr>\n",
       "    <tr>\n",
       "      <th>type__Unknown</th>\n",
       "      <td>-379.910067</td>\n",
       "    </tr>\n",
       "    <tr>\n",
       "      <th>type__bus</th>\n",
       "      <td>3744.651483</td>\n",
       "    </tr>\n",
       "    <tr>\n",
       "      <th>type__convertible</th>\n",
       "      <td>3451.931711</td>\n",
       "    </tr>\n",
       "    <tr>\n",
       "      <th>type__coupe</th>\n",
       "      <td>2897.711173</td>\n",
       "    </tr>\n",
       "    <tr>\n",
       "      <th>type__hatchback</th>\n",
       "      <td>-1416.436026</td>\n",
       "    </tr>\n",
       "    <tr>\n",
       "      <th>type__mini-van</th>\n",
       "      <td>561.894757</td>\n",
       "    </tr>\n",
       "    <tr>\n",
       "      <th>type__offroad</th>\n",
       "      <td>2887.822997</td>\n",
       "    </tr>\n",
       "    <tr>\n",
       "      <th>type__other</th>\n",
       "      <td>1312.539480</td>\n",
       "    </tr>\n",
       "    <tr>\n",
       "      <th>type__pickup</th>\n",
       "      <td>3438.160635</td>\n",
       "    </tr>\n",
       "    <tr>\n",
       "      <th>type__sedan</th>\n",
       "      <td>-1419.216692</td>\n",
       "    </tr>\n",
       "    <tr>\n",
       "      <th>type__truck</th>\n",
       "      <td>2240.736557</td>\n",
       "    </tr>\n",
       "    <tr>\n",
       "      <th>type__van</th>\n",
       "      <td>351.251963</td>\n",
       "    </tr>\n",
       "    <tr>\n",
       "      <th>type__wagon</th>\n",
       "      <td>-367.551270</td>\n",
       "    </tr>\n",
       "    <tr>\n",
       "      <th>drive__Unknown</th>\n",
       "      <td>-2522.875040</td>\n",
       "    </tr>\n",
       "    <tr>\n",
       "      <th>drive__fwd</th>\n",
       "      <td>-3863.363798</td>\n",
       "    </tr>\n",
       "    <tr>\n",
       "      <th>drive__rwd</th>\n",
       "      <td>-2148.251225</td>\n",
       "    </tr>\n",
       "    <tr>\n",
       "      <th>trans__automatic</th>\n",
       "      <td>-270.089962</td>\n",
       "    </tr>\n",
       "    <tr>\n",
       "      <th>trans__manual</th>\n",
       "      <td>1561.989847</td>\n",
       "    </tr>\n",
       "    <tr>\n",
       "      <th>trans__other</th>\n",
       "      <td>43.823178</td>\n",
       "    </tr>\n",
       "    <tr>\n",
       "      <th>fuel__diesel</th>\n",
       "      <td>9071.778611</td>\n",
       "    </tr>\n",
       "    <tr>\n",
       "      <th>fuel__electric</th>\n",
       "      <td>-405.797014</td>\n",
       "    </tr>\n",
       "    <tr>\n",
       "      <th>fuel__gas</th>\n",
       "      <td>-729.526420</td>\n",
       "    </tr>\n",
       "    <tr>\n",
       "      <th>fuel__hybrid</th>\n",
       "      <td>-193.065634</td>\n",
       "    </tr>\n",
       "    <tr>\n",
       "      <th>fuel__other</th>\n",
       "      <td>0.000000</td>\n",
       "    </tr>\n",
       "    <tr>\n",
       "      <th>cyl__12 cylinders</th>\n",
       "      <td>11920.672928</td>\n",
       "    </tr>\n",
       "    <tr>\n",
       "      <th>cyl__3 cylinders</th>\n",
       "      <td>-5513.965020</td>\n",
       "    </tr>\n",
       "    <tr>\n",
       "      <th>cyl__4 cylinders</th>\n",
       "      <td>-3868.135248</td>\n",
       "    </tr>\n",
       "    <tr>\n",
       "      <th>cyl__5 cylinders</th>\n",
       "      <td>-1928.290390</td>\n",
       "    </tr>\n",
       "    <tr>\n",
       "      <th>cyl__6 cylinders</th>\n",
       "      <td>-1365.486185</td>\n",
       "    </tr>\n",
       "    <tr>\n",
       "      <th>cyl__8 cylinders</th>\n",
       "      <td>939.083075</td>\n",
       "    </tr>\n",
       "    <tr>\n",
       "      <th>cyl__Unknown</th>\n",
       "      <td>-1659.057601</td>\n",
       "    </tr>\n",
       "    <tr>\n",
       "      <th>cyl__other</th>\n",
       "      <td>-2655.469153</td>\n",
       "    </tr>\n",
       "    <tr>\n",
       "      <th>cond__1</th>\n",
       "      <td>1685.373221</td>\n",
       "    </tr>\n",
       "    <tr>\n",
       "      <th>cond__2</th>\n",
       "      <td>2746.241979</td>\n",
       "    </tr>\n",
       "    <tr>\n",
       "      <th>cond__Unknown</th>\n",
       "      <td>3450.183249</td>\n",
       "    </tr>\n",
       "    <tr>\n",
       "      <th>man__alfa-romeo</th>\n",
       "      <td>0.000000</td>\n",
       "    </tr>\n",
       "    <tr>\n",
       "      <th>man__aston-martin</th>\n",
       "      <td>34949.217578</td>\n",
       "    </tr>\n",
       "    <tr>\n",
       "      <th>man__audi</th>\n",
       "      <td>1172.404332</td>\n",
       "    </tr>\n",
       "    <tr>\n",
       "      <th>man__bmw</th>\n",
       "      <td>457.425904</td>\n",
       "    </tr>\n",
       "    <tr>\n",
       "      <th>man__buick</th>\n",
       "      <td>-1596.736488</td>\n",
       "    </tr>\n",
       "    <tr>\n",
       "      <th>man__cadillac</th>\n",
       "      <td>1578.706822</td>\n",
       "    </tr>\n",
       "    <tr>\n",
       "      <th>man__chevrolet</th>\n",
       "      <td>-596.466320</td>\n",
       "    </tr>\n",
       "    <tr>\n",
       "      <th>man__chrysler</th>\n",
       "      <td>-1997.906892</td>\n",
       "    </tr>\n",
       "    <tr>\n",
       "      <th>man__datsun</th>\n",
       "      <td>-0.000000</td>\n",
       "    </tr>\n",
       "    <tr>\n",
       "      <th>man__dodge</th>\n",
       "      <td>-2384.893343</td>\n",
       "    </tr>\n",
       "    <tr>\n",
       "      <th>man__ferrari</th>\n",
       "      <td>88885.912355</td>\n",
       "    </tr>\n",
       "    <tr>\n",
       "      <th>man__fiat</th>\n",
       "      <td>-5892.520714</td>\n",
       "    </tr>\n",
       "    <tr>\n",
       "      <th>man__ford</th>\n",
       "      <td>-921.597581</td>\n",
       "    </tr>\n",
       "    <tr>\n",
       "      <th>man__gmc</th>\n",
       "      <td>1429.726676</td>\n",
       "    </tr>\n",
       "    <tr>\n",
       "      <th>man__harley-davidson</th>\n",
       "      <td>-254.793483</td>\n",
       "    </tr>\n",
       "    <tr>\n",
       "      <th>man__honda</th>\n",
       "      <td>-421.963409</td>\n",
       "    </tr>\n",
       "    <tr>\n",
       "      <th>man__hyundai</th>\n",
       "      <td>-3588.603654</td>\n",
       "    </tr>\n",
       "    <tr>\n",
       "      <th>man__infiniti</th>\n",
       "      <td>-153.737942</td>\n",
       "    </tr>\n",
       "    <tr>\n",
       "      <th>man__jaguar</th>\n",
       "      <td>925.018983</td>\n",
       "    </tr>\n",
       "    <tr>\n",
       "      <th>man__jeep</th>\n",
       "      <td>-413.323146</td>\n",
       "    </tr>\n",
       "    <tr>\n",
       "      <th>man__kia</th>\n",
       "      <td>-3764.205759</td>\n",
       "    </tr>\n",
       "    <tr>\n",
       "      <th>man__land rover</th>\n",
       "      <td>-0.000000</td>\n",
       "    </tr>\n",
       "    <tr>\n",
       "      <th>man__lexus</th>\n",
       "      <td>2696.053521</td>\n",
       "    </tr>\n",
       "    <tr>\n",
       "      <th>man__lincoln</th>\n",
       "      <td>-570.002396</td>\n",
       "    </tr>\n",
       "    <tr>\n",
       "      <th>man__mazda</th>\n",
       "      <td>-1671.445639</td>\n",
       "    </tr>\n",
       "    <tr>\n",
       "      <th>man__mercedes-benz</th>\n",
       "      <td>2893.842372</td>\n",
       "    </tr>\n",
       "    <tr>\n",
       "      <th>man__mercury</th>\n",
       "      <td>-1832.970778</td>\n",
       "    </tr>\n",
       "    <tr>\n",
       "      <th>man__mini</th>\n",
       "      <td>-1667.906885</td>\n",
       "    </tr>\n",
       "    <tr>\n",
       "      <th>man__mitsubishi</th>\n",
       "      <td>-4004.354168</td>\n",
       "    </tr>\n",
       "    <tr>\n",
       "      <th>man__morgan</th>\n",
       "      <td>0.000000</td>\n",
       "    </tr>\n",
       "    <tr>\n",
       "      <th>man__nissan</th>\n",
       "      <td>-3272.582623</td>\n",
       "    </tr>\n",
       "    <tr>\n",
       "      <th>man__pontiac</th>\n",
       "      <td>-10.039802</td>\n",
       "    </tr>\n",
       "    <tr>\n",
       "      <th>man__porche</th>\n",
       "      <td>0.000000</td>\n",
       "    </tr>\n",
       "    <tr>\n",
       "      <th>man__ram</th>\n",
       "      <td>54.290836</td>\n",
       "    </tr>\n",
       "    <tr>\n",
       "      <th>man__rover</th>\n",
       "      <td>7177.127954</td>\n",
       "    </tr>\n",
       "    <tr>\n",
       "      <th>man__saturn</th>\n",
       "      <td>-378.412577</td>\n",
       "    </tr>\n",
       "    <tr>\n",
       "      <th>man__subaru</th>\n",
       "      <td>-1797.419351</td>\n",
       "    </tr>\n",
       "    <tr>\n",
       "      <th>man__tesla</th>\n",
       "      <td>25257.106032</td>\n",
       "    </tr>\n",
       "    <tr>\n",
       "      <th>man__toyota</th>\n",
       "      <td>1030.975602</td>\n",
       "    </tr>\n",
       "    <tr>\n",
       "      <th>man__volkswagen</th>\n",
       "      <td>-4005.657964</td>\n",
       "    </tr>\n",
       "    <tr>\n",
       "      <th>man__volvo</th>\n",
       "      <td>0.000000</td>\n",
       "    </tr>\n",
       "    <tr>\n",
       "      <th>year__1960.0</th>\n",
       "      <td>5062.216135</td>\n",
       "    </tr>\n",
       "    <tr>\n",
       "      <th>year__1970.0</th>\n",
       "      <td>2821.631370</td>\n",
       "    </tr>\n",
       "    <tr>\n",
       "      <th>year__1980.0</th>\n",
       "      <td>-4517.865210</td>\n",
       "    </tr>\n",
       "    <tr>\n",
       "      <th>year__1990.0</th>\n",
       "      <td>-10899.144658</td>\n",
       "    </tr>\n",
       "    <tr>\n",
       "      <th>year__2000.0</th>\n",
       "      <td>-13473.969727</td>\n",
       "    </tr>\n",
       "    <tr>\n",
       "      <th>year__2005.0</th>\n",
       "      <td>-14429.012606</td>\n",
       "    </tr>\n",
       "    <tr>\n",
       "      <th>year__2010.0</th>\n",
       "      <td>-14486.839771</td>\n",
       "    </tr>\n",
       "    <tr>\n",
       "      <th>year__2015.0</th>\n",
       "      <td>-13447.108426</td>\n",
       "    </tr>\n",
       "    <tr>\n",
       "      <th>year__2016.0</th>\n",
       "      <td>-12618.852986</td>\n",
       "    </tr>\n",
       "    <tr>\n",
       "      <th>year__2017.0</th>\n",
       "      <td>-12859.528192</td>\n",
       "    </tr>\n",
       "    <tr>\n",
       "      <th>year__2018.0</th>\n",
       "      <td>-13208.488104</td>\n",
       "    </tr>\n",
       "    <tr>\n",
       "      <th>year__2019.0</th>\n",
       "      <td>-12162.647866</td>\n",
       "    </tr>\n",
       "    <tr>\n",
       "      <th>year__2020.0</th>\n",
       "      <td>-7710.624984</td>\n",
       "    </tr>\n",
       "    <tr>\n",
       "      <th>year__2021.0</th>\n",
       "      <td>-26705.077868</td>\n",
       "    </tr>\n",
       "  </tbody>\n",
       "</table>\n",
       "</div>"
      ],
      "text/plain": [
       "                                 0\n",
       "odometer                 -0.043431\n",
       "logage                -8059.723574\n",
       "st__al                  333.619071\n",
       "st__ar                  763.896183\n",
       "st__az                  -65.920817\n",
       "st__ca                  280.476949\n",
       "st__co                  409.070858\n",
       "st__ct                 -651.382769\n",
       "st__dc                -1078.374219\n",
       "st__de                   -0.000000\n",
       "st__fl                -1100.671502\n",
       "st__ga                 -216.272177\n",
       "st__hi                  822.645104\n",
       "st__ia                 -520.735983\n",
       "st__id                  989.084035\n",
       "st__il                -1130.557584\n",
       "st__in                 -116.259816\n",
       "st__ks                    0.000000\n",
       "st__ky                 -115.714081\n",
       "st__la                 -774.448194\n",
       "st__ma                -1627.383682\n",
       "st__md                 -763.437639\n",
       "st__me                -2911.388667\n",
       "st__mi                 -543.467092\n",
       "st__mn                 -263.318041\n",
       "st__mo                  302.051372\n",
       "st__ms                   -0.000000\n",
       "st__mt                 2481.151517\n",
       "st__nc                  120.432136\n",
       "st__nd                    0.000000\n",
       "st__ne                   -0.000000\n",
       "st__nh                -2037.373013\n",
       "st__nj                -1540.464253\n",
       "st__nm                   18.217673\n",
       "st__nv                   -0.000000\n",
       "st__ny                 -869.576641\n",
       "st__oh                -1077.575203\n",
       "st__ok                   71.175727\n",
       "st__or                 -263.718367\n",
       "st__pa                 -818.796255\n",
       "st__ri                 -474.207692\n",
       "st__sc                  505.442563\n",
       "st__sd                  759.464541\n",
       "st__tn                   -0.000000\n",
       "st__tx                 -355.918518\n",
       "st__ut                  389.382773\n",
       "st__va                 -146.036200\n",
       "st__vt                -2167.476858\n",
       "st__wa                 1562.763678\n",
       "st__wi                   16.671137\n",
       "st__wv                  130.812531\n",
       "st__wy                  476.657569\n",
       "type__Unknown          -379.910067\n",
       "type__bus              3744.651483\n",
       "type__convertible      3451.931711\n",
       "type__coupe            2897.711173\n",
       "type__hatchback       -1416.436026\n",
       "type__mini-van          561.894757\n",
       "type__offroad          2887.822997\n",
       "type__other            1312.539480\n",
       "type__pickup           3438.160635\n",
       "type__sedan           -1419.216692\n",
       "type__truck            2240.736557\n",
       "type__van               351.251963\n",
       "type__wagon            -367.551270\n",
       "drive__Unknown        -2522.875040\n",
       "drive__fwd            -3863.363798\n",
       "drive__rwd            -2148.251225\n",
       "trans__automatic       -270.089962\n",
       "trans__manual          1561.989847\n",
       "trans__other             43.823178\n",
       "fuel__diesel           9071.778611\n",
       "fuel__electric         -405.797014\n",
       "fuel__gas              -729.526420\n",
       "fuel__hybrid           -193.065634\n",
       "fuel__other               0.000000\n",
       "cyl__12 cylinders     11920.672928\n",
       "cyl__3 cylinders      -5513.965020\n",
       "cyl__4 cylinders      -3868.135248\n",
       "cyl__5 cylinders      -1928.290390\n",
       "cyl__6 cylinders      -1365.486185\n",
       "cyl__8 cylinders        939.083075\n",
       "cyl__Unknown          -1659.057601\n",
       "cyl__other            -2655.469153\n",
       "cond__1                1685.373221\n",
       "cond__2                2746.241979\n",
       "cond__Unknown          3450.183249\n",
       "man__alfa-romeo           0.000000\n",
       "man__aston-martin     34949.217578\n",
       "man__audi              1172.404332\n",
       "man__bmw                457.425904\n",
       "man__buick            -1596.736488\n",
       "man__cadillac          1578.706822\n",
       "man__chevrolet         -596.466320\n",
       "man__chrysler         -1997.906892\n",
       "man__datsun              -0.000000\n",
       "man__dodge            -2384.893343\n",
       "man__ferrari          88885.912355\n",
       "man__fiat             -5892.520714\n",
       "man__ford              -921.597581\n",
       "man__gmc               1429.726676\n",
       "man__harley-davidson   -254.793483\n",
       "man__honda             -421.963409\n",
       "man__hyundai          -3588.603654\n",
       "man__infiniti          -153.737942\n",
       "man__jaguar             925.018983\n",
       "man__jeep              -413.323146\n",
       "man__kia              -3764.205759\n",
       "man__land rover          -0.000000\n",
       "man__lexus             2696.053521\n",
       "man__lincoln           -570.002396\n",
       "man__mazda            -1671.445639\n",
       "man__mercedes-benz     2893.842372\n",
       "man__mercury          -1832.970778\n",
       "man__mini             -1667.906885\n",
       "man__mitsubishi       -4004.354168\n",
       "man__morgan               0.000000\n",
       "man__nissan           -3272.582623\n",
       "man__pontiac            -10.039802\n",
       "man__porche               0.000000\n",
       "man__ram                 54.290836\n",
       "man__rover             7177.127954\n",
       "man__saturn            -378.412577\n",
       "man__subaru           -1797.419351\n",
       "man__tesla            25257.106032\n",
       "man__toyota            1030.975602\n",
       "man__volkswagen       -4005.657964\n",
       "man__volvo                0.000000\n",
       "year__1960.0           5062.216135\n",
       "year__1970.0           2821.631370\n",
       "year__1980.0          -4517.865210\n",
       "year__1990.0         -10899.144658\n",
       "year__2000.0         -13473.969727\n",
       "year__2005.0         -14429.012606\n",
       "year__2010.0         -14486.839771\n",
       "year__2015.0         -13447.108426\n",
       "year__2016.0         -12618.852986\n",
       "year__2017.0         -12859.528192\n",
       "year__2018.0         -13208.488104\n",
       "year__2019.0         -12162.647866\n",
       "year__2020.0          -7710.624984\n",
       "year__2021.0         -26705.077868"
      ]
     },
     "execution_count": 54,
     "metadata": {},
     "output_type": "execute_result"
    }
   ],
   "source": [
    "lasso_coef = pd.DataFrame(data=lasso.coef_).T\n",
    "lasso_coef.columns = X_train.columns\n",
    "lasso_coef.T"
   ]
  },
  {
   "cell_type": "code",
   "execution_count": 55,
   "metadata": {},
   "outputs": [
    {
     "data": {
      "text/plain": [
       "<matplotlib.axes._subplots.AxesSubplot at 0x1a243a3790>"
      ]
     },
     "execution_count": 55,
     "metadata": {},
     "output_type": "execute_result"
    },
    {
     "data": {
      "image/png": "[encoded data removed]",
      "text/plain": [
       "<Figure size 1152x576 with 1 Axes>"
      ]
     },
     "metadata": {},
     "output_type": "display_data"
    }
   ],
   "source": [
    "lasso_coef = lasso_coef.T.sort_values(by=0).T\n",
    "lasso_coef.plot(kind='bar', title='Modal Coefficients', legend=False, figsize=(16,8))"
   ]
  },
  {
   "cell_type": "markdown",
   "metadata": {},
   "source": [
    "The model is fit as the test error is almost equal to the training error"
   ]
  },
  {
   "cell_type": "markdown",
   "metadata": {},
   "source": [
    "My final model shows that my RMSE is around 7000 off from predicting the true price. I used the lasso model because that showed the lowest RMSE. The odometer coffecient shows that for each additional mile the car is driven, the price will go down -.04, and for each additional logarithmic age of the car, the value goes down by 8000"
   ]
  },
  {
   "cell_type": "markdown",
   "metadata": {},
   "source": [
    "## Refitting the best model to the dataset"
   ]
  },
  {
   "cell_type": "code",
   "execution_count": 56,
   "metadata": {},
   "outputs": [],
   "source": [
    "\n",
    "scaler = StandardScaler()\n",
    "final_scaled = scaler.fit_transform(df_features)"
   ]
  },
  {
   "cell_type": "code",
   "execution_count": 57,
   "metadata": {},
   "outputs": [
    {
     "name": "stderr",
     "output_type": "stream",
     "text": [
      "/Users/yehudaschein/opt/anaconda3/lib/python3.7/site-packages/sklearn/linear_model/_coordinate_descent.py:476: ConvergenceWarning: Objective did not converge. You might want to increase the number of iterations. Duality gap: 2245475266998.3496, tolerance: 4804144115.209858\n",
      "  positive)\n"
     ]
    },
    {
     "data": {
      "text/plain": [
       "Lasso(alpha=1, copy_X=True, fit_intercept=True, max_iter=1000, normalize=False,\n",
       "      positive=False, precompute=False, random_state=None, selection='cyclic',\n",
       "      tol=0.0001, warm_start=False)"
      ]
     },
     "execution_count": 57,
     "metadata": {},
     "output_type": "execute_result"
    }
   ],
   "source": [
    "lasso1 = Lasso(alpha=1, normalize=False)\n",
    "lasso1.fit(final_scaled, target)"
   ]
  },
  {
   "cell_type": "code",
   "execution_count": 58,
   "metadata": {},
   "outputs": [
    {
     "data": {
      "text/plain": [
       "array([-2.34498712e+03, -5.88498352e+03,  1.16294990e+01,  6.11485607e+01,\n",
       "       -5.71399783e+01, -2.07618822e+01,  1.34530817e+01, -1.08303294e+02,\n",
       "       -1.17570646e+02, -2.13345490e+01, -3.79849980e+02, -7.44778696e+01,\n",
       "        6.58976717e+01, -1.17231523e+02,  1.02389740e+02, -2.22149568e+02,\n",
       "       -6.01862194e+01, -3.88312373e+01, -5.08699013e+01, -9.45450533e+01,\n",
       "       -2.64225239e+02, -1.12700270e+02, -2.72957398e+02, -1.56426477e+02,\n",
       "       -8.33581398e+01,  6.50439214e+00, -2.12227358e+01,  3.07487666e+02,\n",
       "       -2.57231942e+01,  2.96089225e+00, -1.85805030e+01, -2.11295677e+02,\n",
       "       -2.64845915e+02, -2.06321809e+01, -2.91640428e+01, -2.37557791e+02,\n",
       "       -2.61687760e+02, -1.54872811e+01, -1.05714788e+02, -1.71913773e+02,\n",
       "       -7.53076611e+01,  1.99405128e+01,  3.00808342e+01, -5.84367702e+01,\n",
       "       -1.53472911e+02,  2.71454669e+01, -7.85353920e+01, -2.20453456e+02,\n",
       "        2.23696244e+02, -4.94897113e+01,  9.56485822e+00,  3.72806975e+01,\n",
       "       -1.42917009e+02,  1.49565371e+02,  4.84875500e+02,  5.77295864e+02,\n",
       "       -2.18975163e+02,  8.18876212e+01,  1.50645161e+02,  2.23462545e+02,\n",
       "        1.03503671e+03, -5.45356675e+02,  6.44441493e+02,  7.04232177e+01,\n",
       "       -3.64614523e+01, -1.10569890e+03, -1.68013579e+03, -7.46788393e+02,\n",
       "       -2.29677791e+01,  4.24954075e+02,  5.78797905e+01,  2.32406407e+03,\n",
       "       -8.40967406e+01, -3.54217153e+02, -6.40600810e+01, -4.44816140e+01,\n",
       "        1.51695567e+02, -2.35705688e+02, -1.99712045e+03, -2.30419530e+02,\n",
       "       -1.01615387e+03, -5.85248759e+01, -1.33136121e+03, -1.79265819e+02,\n",
       "        1.16489871e+03,  1.80741762e+03,  2.19455583e+03,  2.41970933e+01,\n",
       "        3.58759787e+02,  6.49634516e+01, -4.07129318e+01, -2.84520741e+02,\n",
       "        1.26692285e+02, -4.81687594e+02, -3.56684694e+02, -3.22644356e+01,\n",
       "       -5.73675150e+02,  1.20821135e+03, -3.37174454e+02, -6.56913102e+02,\n",
       "        1.50698750e+02, -6.12607518e+01, -2.57752824e+02, -6.75542407e+02,\n",
       "       -8.88331509e+01,  4.81298991e+01, -2.40846185e+02, -6.26605357e+02,\n",
       "       -1.37694008e+01,  2.40622762e+02, -1.15819597e+02, -2.78286667e+02,\n",
       "        3.66475285e+02, -1.71094066e+02, -1.72863367e+02, -3.67006428e+02,\n",
       "        5.08181161e+01, -9.09462669e+02, -6.45685341e+01,  3.02733315e+01,\n",
       "       -1.47575750e+02,  4.15360382e+02, -7.47708642e+01, -4.10556075e+02,\n",
       "        7.36119897e+02,  9.08831162e+01, -7.39638789e+02, -4.62856797e+01,\n",
       "        1.24250050e+02, -4.12535631e+01, -7.30541460e+02, -1.51508858e+03,\n",
       "       -3.80673520e+03, -6.36955162e+03, -8.63915238e+03, -9.74673512e+03,\n",
       "       -5.27751622e+03, -5.63672901e+03, -4.50430787e+03, -3.79834706e+03,\n",
       "       -1.30442091e+03, -4.35250252e+02])"
      ]
     },
     "execution_count": 58,
     "metadata": {},
     "output_type": "execute_result"
    }
   ],
   "source": [
    "lasso1.coef_"
   ]
  }
 ],
 "metadata": {
  "kernelspec": {
   "display_name": "Python 3",
   "language": "python",
   "name": "python3"
  },
  "language_info": {
   "codemirror_mode": {
    "name": "ipython",
    "version": 3
   },
   "file_extension": ".py",
   "mimetype": "text/x-python",
   "name": "python",
   "nbconvert_exporter": "python",
   "pygments_lexer": "ipython3",
   "version": "3.7.6"
  }
 },
 "nbformat": 4,
 "nbformat_minor": 4
}
